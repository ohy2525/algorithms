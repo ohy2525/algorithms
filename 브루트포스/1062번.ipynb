{
 "cells": [
  {
   "cell_type": "markdown",
   "id": "3fe7569f-e6d1-448a-80ed-252adc3c38f0",
   "metadata": {},
   "source": [
    "https://www.acmicpc.net/problem/1062"
   ]
  },
  {
   "cell_type": "code",
   "execution_count": 1,
   "id": "0f36dd4c-207d-49bd-8f2c-2a4ee2bc7fa4",
   "metadata": {},
   "outputs": [
    {
     "name": "stdin",
     "output_type": "stream",
     "text": [
      " 2 3\n",
      " antaxxxxxxxtica\n",
      " antarctica\n"
     ]
    },
    {
     "name": "stdout",
     "output_type": "stream",
     "text": [
      "0\n"
     ]
    }
   ],
   "source": [
    "from itertools import combinations\n",
    "\n",
    "def word2bit(word):\n",
    "    bit = 0\n",
    "    for char in word:\n",
    "        bit = bit | (1 << ord(char) - ord('a'))\n",
    "    return bit\n",
    "\n",
    "N, K = map(int, input().split())\n",
    "words = [input().rstrip() for _ in range(N)]\n",
    "bits = list(map(word2bit, words))\n",
    "base_bit = word2bit('antic')\n",
    "\n",
    "if K < 5:\n",
    "    print(0)\n",
    "else:\n",
    "    alphabet = [1 << i for i in range(26) if not (base_bit & 1 << i)]\n",
    "    answer = 0\n",
    "    for combination in combinations(alphabet, K-5):\n",
    "        know_bit = sum(combination) | base_bit\n",
    "        count = 0\n",
    "        for bit in bits:\n",
    "            if bit & know_bit == bit:\n",
    "                count += 1\n",
    "        answer = max(answer, count)\n",
    "    print(answer)"
   ]
  }
 ],
 "metadata": {
  "kernelspec": {
   "display_name": "Python 3 (ipykernel)",
   "language": "python",
   "name": "python3"
  },
  "language_info": {
   "codemirror_mode": {
    "name": "ipython",
    "version": 3
   },
   "file_extension": ".py",
   "mimetype": "text/x-python",
   "name": "python",
   "nbconvert_exporter": "python",
   "pygments_lexer": "ipython3",
   "version": "3.11.7"
  }
 },
 "nbformat": 4,
 "nbformat_minor": 5
}
