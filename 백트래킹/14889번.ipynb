{
 "cells": [
  {
   "cell_type": "markdown",
   "metadata": {},
   "source": [
    "https://www.acmicpc.net/problem/14889"
   ]
  },
  {
   "cell_type": "code",
   "execution_count": 1,
   "metadata": {},
   "outputs": [
    {
     "name": "stdout",
     "output_type": "stream",
     "text": [
      "4\n",
      "0 1 2 3\n",
      "4 0 5 6\n",
      "7 1 0 2\n",
      "3 4 5 0\n",
      "0\n"
     ]
    }
   ],
   "source": [
    "N = int(input())\n",
    "array = []\n",
    "result = 1e9\n",
    "visited = [False] * (N + 1)\n",
    "for _ in range(N):\n",
    "    array.append(list(map(int, input().split())))\n",
    "\n",
    "\n",
    "def solve(depth, idx):\n",
    "    global result\n",
    "    if depth == (N // 2):\n",
    "        start, link = 0, 0\n",
    "        for i in range(N): \n",
    "            for j in range(i + 1, N):\n",
    "                if visited[i] and visited[j]:\n",
    "                    start += (array[i][j] + array[j][i])\n",
    "                elif not visited[i] and not visited[j]:\n",
    "                    link += (array[i][j] + array[j][i])\n",
    "        \n",
    "        result = min(result, abs(start - link))\n",
    "    for i in range(idx, N): \n",
    "        if not visited[i]:\n",
    "            visited[i] = True\n",
    "            solve(depth + 1, i + 1)\n",
    "            visited[i] = False\n",
    "\n",
    "\n",
    "solve(0, 0)\n",
    "print(result)"
   ]
  }
 ],
 "metadata": {
  "kernelspec": {
   "display_name": "Python 3",
   "language": "python",
   "name": "python3"
  },
  "language_info": {
   "codemirror_mode": {
    "name": "ipython",
    "version": 3
   },
   "file_extension": ".py",
   "mimetype": "text/x-python",
   "name": "python",
   "nbconvert_exporter": "python",
   "pygments_lexer": "ipython3",
   "version": "3.8.5"
  }
 },
 "nbformat": 4,
 "nbformat_minor": 4
}
