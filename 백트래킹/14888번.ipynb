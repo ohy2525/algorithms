{
 "cells": [
  {
   "cell_type": "markdown",
   "metadata": {},
   "source": [
    "https://www.acmicpc.net/problem/14888"
   ]
  },
  {
   "cell_type": "code",
   "execution_count": 1,
   "metadata": {},
   "outputs": [
    {
     "name": "stdout",
     "output_type": "stream",
     "text": [
      "6\n",
      "1 2 3 4 5 6\n",
      "2 1 1 1\n",
      "54\n",
      "-24\n"
     ]
    }
   ],
   "source": [
    "import sys\n",
    "\n",
    "n = int(input())\n",
    "arr = list(map(int, input().split()))\n",
    "op = list(map(int, input().split()))\n",
    "\n",
    "INF = sys.maxsize\n",
    "max_result = -INF\n",
    "min_result = INF\n",
    "\n",
    "def dfs(depth, result, p, mi, mul, d):\n",
    "    global max_result, min_result\n",
    "    \n",
    "    if depth == n:\n",
    "        max_result = max(max_result, result)\n",
    "        min_result = min(min_result, result)\n",
    "        return\n",
    "\n",
    "    if p:\n",
    "        dfs(depth + 1, result + arr[depth], p - 1, mi, mul, d)\n",
    "    if mi:\n",
    "        dfs(depth + 1, result - arr[depth], p, mi - 1, mul, d)\n",
    "    if mul:\n",
    "        dfs(depth + 1, result * arr[depth], p, mi, mul - 1, d)\n",
    "    if d:\n",
    "        dfs(depth + 1, int(result / arr[depth]), p, mi, mul, d - 1)\n",
    "\n",
    "dfs(1, arr[0], op[0], op[1], op[2], op[3])\n",
    "\n",
    "print(max_result)    \n",
    "print(min_result)\n"
   ]
  }
 ],
 "metadata": {
  "kernelspec": {
   "display_name": "Python 3",
   "language": "python",
   "name": "python3"
  },
  "language_info": {
   "codemirror_mode": {
    "name": "ipython",
    "version": 3
   },
   "file_extension": ".py",
   "mimetype": "text/x-python",
   "name": "python",
   "nbconvert_exporter": "python",
   "pygments_lexer": "ipython3",
   "version": "3.8.5"
  }
 },
 "nbformat": 4,
 "nbformat_minor": 4
}
