{
 "cells": [
  {
   "cell_type": "markdown",
   "metadata": {},
   "source": [
    "https://www.acmicpc.net/problem/1759"
   ]
  },
  {
   "cell_type": "code",
   "execution_count": 1,
   "metadata": {},
   "outputs": [
    {
     "name": "stdout",
     "output_type": "stream",
     "text": [
      "4 6\n",
      "a t c i s w\n",
      "acis\n",
      "acit\n",
      "aciw\n",
      "acst\n",
      "acsw\n",
      "actw\n",
      "aist\n",
      "aisw\n",
      "aitw\n",
      "astw\n",
      "cist\n",
      "cisw\n",
      "citw\n",
      "istw\n"
     ]
    }
   ],
   "source": [
    "l, c = map(int, input().split())\n",
    "arr = list(input().split())\n",
    "arr.sort()\n",
    "\n",
    "vowels = ['a', 'e', 'i', 'o', 'u']\n",
    "\n",
    "def valid(pw):\n",
    "    v_cnt = 0\n",
    "    c_cnt = 0\n",
    "    for c in pw:\n",
    "        if c in vowels:\n",
    "            v_cnt += 1\n",
    "        else:\n",
    "            c_cnt += 1\n",
    "    \n",
    "    if v_cnt >= 1 and c_cnt >= 2:\n",
    "        return True\n",
    "    return False\n",
    "\n",
    "def dfs(pw, idx):\n",
    "    if len(pw) == l:\n",
    "        if valid(pw):\n",
    "            print(pw)\n",
    "        return\n",
    "    \n",
    "    if idx == c:\n",
    "        return\n",
    "    \n",
    "    for i in range(idx, c):\n",
    "        tmp = pw + arr[i]\n",
    "        dfs(tmp, i + 1)\n",
    "\n",
    "dfs(\"\", 0)"
   ]
  }
 ],
 "metadata": {
  "kernelspec": {
   "display_name": "Python 3",
   "language": "python",
   "name": "python3"
  },
  "language_info": {
   "codemirror_mode": {
    "name": "ipython",
    "version": 3
   },
   "file_extension": ".py",
   "mimetype": "text/x-python",
   "name": "python",
   "nbconvert_exporter": "python",
   "pygments_lexer": "ipython3",
   "version": "3.8.5"
  }
 },
 "nbformat": 4,
 "nbformat_minor": 4
}
