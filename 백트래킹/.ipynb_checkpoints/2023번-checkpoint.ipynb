{
 "cells": [
  {
   "cell_type": "markdown",
   "id": "67a5a3cd-904f-4931-90e4-8e9f6e95f5c0",
   "metadata": {},
   "source": [
    "https://www.acmicpc.net/problem/2023"
   ]
  },
  {
   "cell_type": "code",
   "execution_count": 2,
   "id": "42f0fb8c-6d8b-450d-b6d4-7d2fd55ce770",
   "metadata": {},
   "outputs": [
    {
     "name": "stdin",
     "output_type": "stream",
     "text": [
      " 4\n"
     ]
    },
    {
     "name": "stdout",
     "output_type": "stream",
     "text": [
      "2333\n",
      "2339\n",
      "2393\n",
      "2399\n",
      "2939\n",
      "3119\n",
      "3137\n",
      "3733\n",
      "3739\n",
      "3793\n",
      "3797\n",
      "5939\n",
      "7193\n",
      "7331\n",
      "7333\n",
      "7393\n"
     ]
    }
   ],
   "source": [
    "N = int(input())\n",
    "\n",
    "def isPrimeNumber(n):\n",
    "    if n < 2:\n",
    "        return False\n",
    "    for i in range(2, int(n**0.5)+1):\n",
    "        if n % i == 0:\n",
    "            return False\n",
    "    return True\n",
    "\n",
    "def dfs(num):\n",
    "    if len(str(num)) == N:\n",
    "        if isPrimeNumber(num) == True:\n",
    "            print(num)\n",
    "        return\n",
    "    \n",
    "    for i in range(10):\n",
    "        k = num*10 + i\n",
    "        if isPrimeNumber(k) == True:\n",
    "            dfs(k)\n",
    "\n",
    "for i in [2, 3, 5, 7]:\n",
    "    dfs(i)"
   ]
  }
 ],
 "metadata": {
  "kernelspec": {
   "display_name": "Python 3 (ipykernel)",
   "language": "python",
   "name": "python3"
  },
  "language_info": {
   "codemirror_mode": {
    "name": "ipython",
    "version": 3
   },
   "file_extension": ".py",
   "mimetype": "text/x-python",
   "name": "python",
   "nbconvert_exporter": "python",
   "pygments_lexer": "ipython3",
   "version": "3.11.7"
  }
 },
 "nbformat": 4,
 "nbformat_minor": 5
}
