{
 "cells": [
  {
   "cell_type": "markdown",
   "id": "ac452fea-3df3-445a-afac-361d8a815e20",
   "metadata": {},
   "source": [
    "https://leetcode.com/problems/n-queens/"
   ]
  },
  {
   "cell_type": "code",
   "execution_count": 1,
   "id": "33802b83-e427-45bf-8b66-f90f635f7cfa",
   "metadata": {},
   "outputs": [],
   "source": [
    "def solveQueens(n):\n",
    "    col = set()\n",
    "    posDiag = set() # (r + c)\n",
    "    negDiag = set() # (r - c)\n",
    "    \n",
    "    res = []\n",
    "    board = [[\"ㅁ\"] * n for i in range(n)]\n",
    "    \n",
    "    def backtrack(r):\n",
    "        if r == n:\n",
    "            copy = [\"\".join(row) for row in board]\n",
    "            res.append(copy)\n",
    "            print('res', res)\n",
    "        \n",
    "        for c in range(n):\n",
    "            if c in col or (r+c) in posDiag or (r-c) in negDiag:\n",
    "                continue\n",
    "            \n",
    "            col.add(c)\n",
    "            posDiag.add(r+c)\n",
    "            negDiag.add(r-c)\n",
    "            board[r][c] = \"Q\"\n",
    "            \n",
    "            backtrack(r+1)\n",
    "            \n",
    "            col.remove(c)\n",
    "            posDiag.remove(r + c)\n",
    "            negDiag.remove(r - c)\n",
    "            board[r][c] = \"ㅁ\"\n",
    "            \n",
    "    backtrack(0)\n",
    "    return len(res)"
   ]
  }
 ],
 "metadata": {
  "kernelspec": {
   "display_name": "Python 3 (ipykernel)",
   "language": "python",
   "name": "python3"
  },
  "language_info": {
   "codemirror_mode": {
    "name": "ipython",
    "version": 3
   },
   "file_extension": ".py",
   "mimetype": "text/x-python",
   "name": "python",
   "nbconvert_exporter": "python",
   "pygments_lexer": "ipython3",
   "version": "3.11.7"
  }
 },
 "nbformat": 4,
 "nbformat_minor": 5
}
