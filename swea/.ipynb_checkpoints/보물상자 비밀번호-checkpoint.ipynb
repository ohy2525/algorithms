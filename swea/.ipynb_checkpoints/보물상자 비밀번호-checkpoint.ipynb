{
 "cells": [
  {
   "cell_type": "markdown",
   "id": "1182cc30-88b2-461b-a28a-bf7bcb528c19",
   "metadata": {},
   "source": [
    "https://swexpertacademy.com/main/code/problem/problemDetail.do?contestProbId=AWXRUN9KfZ8DFAUo"
   ]
  },
  {
   "cell_type": "code",
   "execution_count": 1,
   "id": "ccbff1a0-1b5d-432e-b0d8-7edaa8345dce",
   "metadata": {},
   "outputs": [
    {
     "name": "stdin",
     "output_type": "stream",
     "text": [
      " 1\n",
      " 12 10\n",
      " 1B3B3B81F75E\n"
     ]
    },
    {
     "name": "stdout",
     "output_type": "stream",
     "text": [
      "#1 503\n"
     ]
    }
   ],
   "source": [
    "from collections import deque\n",
    "\n",
    "T = int(input())\n",
    "for idx in range(1, T + 1):\n",
    "    N, K = map(int, input().split())\n",
    "    q = deque(input().strip())\n",
    "    r = N // 4\n",
    "    nums = set()\n",
    "    for _ in range(r):\n",
    "        q.rotate(1)\n",
    "        tmp = list(q)\n",
    "        for i in range(0, N, r):\n",
    "            nums.add(\"\".join(tmp[i : i + r]))\n",
    "    nums = sorted(list(nums), reverse = True)\n",
    "    print(f\"#{idx} {int(nums[K - 1], 16)}\")"
   ]
  }
 ],
 "metadata": {
  "kernelspec": {
   "display_name": "Python 3 (ipykernel)",
   "language": "python",
   "name": "python3"
  },
  "language_info": {
   "codemirror_mode": {
    "name": "ipython",
    "version": 3
   },
   "file_extension": ".py",
   "mimetype": "text/x-python",
   "name": "python",
   "nbconvert_exporter": "python",
   "pygments_lexer": "ipython3",
   "version": "3.11.7"
  }
 },
 "nbformat": 4,
 "nbformat_minor": 5
}
