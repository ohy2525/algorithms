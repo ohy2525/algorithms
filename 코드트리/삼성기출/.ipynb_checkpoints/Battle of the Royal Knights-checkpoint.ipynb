{
 "cells": [
  {
   "cell_type": "markdown",
   "id": "b63639ec-95ec-4e94-88df-a713a08b141d",
   "metadata": {},
   "source": [
    "https://www.codetree.ai/training-field/frequent-problems/problems/royal-knight-duel/description?page=1&pageSize=20"
   ]
  },
  {
   "cell_type": "code",
   "execution_count": 2,
   "id": "7deb7237-03ea-4593-a27d-1cedf191d3dd",
   "metadata": {},
   "outputs": [
    {
     "name": "stdin",
     "output_type": "stream",
     "text": [
      " 4 3 3\n",
      " 0 0 1 0\n",
      " 0 0 1 0\n",
      " 1 1 0 1\n",
      " 0 0 2 0\n",
      " 1 2 2 1 5\n",
      " 2 1 2 1 1\n",
      " 3 2 1 2 3\n",
      " 1 2\n",
      " 2 1\n",
      " 3 3\n"
     ]
    },
    {
     "name": "stdout",
     "output_type": "stream",
     "text": [
      "3\n"
     ]
    }
   ],
   "source": [
    "from collections import deque\n",
    "\n",
    "MAX_N = 31\n",
    "MAX_L = 41\n",
    "dx = [-1, 0, 1, 0]\n",
    "dy = [0, 1, 0, -1]\n",
    "l, n, q = 0, 0, 0\n",
    "\n",
    "info = [[0 for _ in range(MAX_L)] for _ in range(MAX_L)]\n",
    "bef_k = [0 for _ in range(MAX_N)]\n",
    "r = [0 for _ in range(MAX_N)]\n",
    "c = [0 for _ in range(MAX_N)]\n",
    "h = [0 for _ in range(MAX_N)]\n",
    "w = [0 for _ in range(MAX_N)]\n",
    "k = [0 for _ in range(MAX_N)]\n",
    "nr = [0 for _ in range(MAX_N)]\n",
    "nc = [0 for _ in range(MAX_N)]\n",
    "dmg = [0 for _ in range(MAX_N)]\n",
    "is_moved = [False for _ in range(MAX_N)]\n",
    "\n",
    "\n",
    "def try_movement(idx, dir):\n",
    "    q = deque()\n",
    "    is_pos = True\n",
    "\n",
    "    for i in range(1, n + 1):\n",
    "        dmg[i] = 0\n",
    "        is_moved[i] = False\n",
    "        nr[i] = r[i]\n",
    "        nc[i] = c[i]\n",
    "\n",
    "    q.append(idx)\n",
    "    is_moved[idx] = True\n",
    "\n",
    "    while q:\n",
    "        x = q.popleft()\n",
    "\n",
    "        nr[x] += dx[dir]\n",
    "        nc[x] += dy[dir]\n",
    "\n",
    "        if nr[x] < 1 or nc[x] < 1 or nr[x] + h[x] - 1 > l or nc[x] + w[x] - 1 > l:\n",
    "            return False\n",
    "\n",
    "        for i in range(nr[x], nr[x] + h[x]):\n",
    "            for j in range(nc[x], nc[x] + w[x]):\n",
    "                if info[i][j] == 1:\n",
    "                    dmg[x] += 1\n",
    "                if info[i][j] == 2:\n",
    "                    return False\n",
    "\n",
    "        for i in range(1, n + 1):\n",
    "            if is_moved[i] or k[i] <= 0:\n",
    "                continue\n",
    "            if r[i] > nr[x] + h[x] - 1 or nr[x] > r[i] + h[i] - 1:\n",
    "                continue\n",
    "            if c[i] > nc[x] + w[x] - 1 or nc[x] > c[i] + w[i] - 1:\n",
    "                continue\n",
    "\n",
    "            is_moved[i] = True\n",
    "            q.append(i)\n",
    "\n",
    "    dmg[idx] = 0\n",
    "    return True\n",
    "\n",
    "def move_piece(idx, move_dir):\n",
    "    if k[idx] <= 0:\n",
    "        return\n",
    "\n",
    "    if try_movement(idx, move_dir):\n",
    "        for i in range(1, n + 1):\n",
    "            r[i] = nr[i]\n",
    "            c[i] = nc[i]\n",
    "            k[i] -= dmg[i]\n",
    "\n",
    "def main():\n",
    "    global l, n, q\n",
    "    l, n, q = map(int, input().split())\n",
    "    for i in range(1, l + 1):\n",
    "        info[i][1:] = map(int, input().split())\n",
    "    for i in range(1, n + 1):\n",
    "        r[i], c[i], h[i], w[i], k[i] = map(int, input().split())\n",
    "        bef_k[i] = k[i]\n",
    "\n",
    "    for _ in range(q):\n",
    "        idx, d = map(int, input().split())\n",
    "        move_piece(idx, d)\n",
    "\n",
    "    ans = sum([bef_k[i] - k[i] for i in range(1, n + 1) if k[i] > 0])\n",
    "    print(ans)\n",
    "\n",
    "if __name__ == \"__main__\":\n",
    "    main()"
   ]
  }
 ],
 "metadata": {
  "kernelspec": {
   "display_name": "Python 3 (ipykernel)",
   "language": "python",
   "name": "python3"
  },
  "language_info": {
   "codemirror_mode": {
    "name": "ipython",
    "version": 3
   },
   "file_extension": ".py",
   "mimetype": "text/x-python",
   "name": "python",
   "nbconvert_exporter": "python",
   "pygments_lexer": "ipython3",
   "version": "3.11.7"
  }
 },
 "nbformat": 4,
 "nbformat_minor": 5
}
