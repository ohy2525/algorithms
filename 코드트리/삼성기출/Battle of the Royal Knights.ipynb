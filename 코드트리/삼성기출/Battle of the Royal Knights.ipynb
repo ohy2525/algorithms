{
 "cells": [
  {
   "cell_type": "markdown",
   "id": "cabaf1e6-b890-4fa8-a615-7f3d24105e44",
   "metadata": {},
   "source": [
    "https://www.codetree.ai/training-field/frequent-problems/problems/royal-knight-duel/description?page=1&pageSize=20"
   ]
  },
  {
   "cell_type": "code",
   "execution_count": null,
   "id": "7f639594-d96a-4e45-847e-c5363b867c70",
   "metadata": {},
   "outputs": [],
   "source": []
  }
 ],
 "metadata": {
  "kernelspec": {
   "display_name": "Python 3 (ipykernel)",
   "language": "python",
   "name": "python3"
  },
  "language_info": {
   "codemirror_mode": {
    "name": "ipython",
    "version": 3
   },
   "file_extension": ".py",
   "mimetype": "text/x-python",
   "name": "python",
   "nbconvert_exporter": "python",
   "pygments_lexer": "ipython3",
   "version": "3.11.7"
  }
 },
 "nbformat": 4,
 "nbformat_minor": 5
}
