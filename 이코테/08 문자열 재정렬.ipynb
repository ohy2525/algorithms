{
 "cells": [
  {
   "cell_type": "markdown",
   "metadata": {},
   "source": [
    "## 문제\n",
    "알파벳 대문자와 숫자(0 ~ 9)로만 구성된 문자열이 입력으로 주어집니다. 이때 모든 알파벳을 오름차순으로 정렬하여 이어서 출력한 뒤에, 그 뒤에 모든 숫자를 더한 값을 이어서 출력합니다.\n",
    "\n",
    "예를 들어 K1KA5CB7이라는 값이 들어오면 ABCKK13을 출력합니다.\n",
    "\n",
    "## 입력 조건\n",
    "첫째 줄에 하나의 문자열 S가 주어집니다. ( 1≤ S의 길이 ≤ 10,000 )\n",
    "\n",
    "## 출력 조건\n",
    "첫째 줄에 문제에서 요구하는 정답을 출력합니다.\n",
    "\n",
    "## 예시\n",
    "<입력 예시 1>\n",
    "K1KA5CB7\n",
    "<출력 예시 1>\n",
    "ABCKK13\n",
    "\n",
    "<입력 예시 2>\n",
    "AJKDLSI412K4JSJ9D\n",
    "<출력 예시2>\n",
    "ADDIJJJKKLSS20"
   ]
  },
  {
   "cell_type": "code",
   "execution_count": 12,
   "metadata": {},
   "outputs": [
    {
     "name": "stdout",
     "output_type": "stream",
     "text": [
      "AJKDLSI412K4JSJ9D\n"
     ]
    }
   ],
   "source": [
    "s = input()"
   ]
  },
  {
   "cell_type": "code",
   "execution_count": 14,
   "metadata": {},
   "outputs": [
    {
     "name": "stdout",
     "output_type": "stream",
     "text": [
      "ADDIJJJKKLSS20\n"
     ]
    }
   ],
   "source": [
    "alphabet = []\n",
    "num = 0\n",
    "for i in s:\n",
    "    try :\n",
    "        int(i)\n",
    "        num += int(i)\n",
    "    except:\n",
    "        alphabet.append(i)\n",
    "        \n",
    "alphabet.sort()\n",
    "\n",
    "ans = ''\n",
    "for i in alphabet:\n",
    "    ans += i\n",
    "if num != 0:\n",
    "    ans += str(num)\n",
    "print(ans)"
   ]
  },
  {
   "cell_type": "code",
   "execution_count": 15,
   "metadata": {},
   "outputs": [
    {
     "name": "stdout",
     "output_type": "stream",
     "text": [
      "AJKDLSI412K4JSJ9D\n",
      "ADDIJJJKKLSS20\n"
     ]
    }
   ],
   "source": [
    "data = input()\n",
    "result = []\n",
    "value = 0\n",
    "\n",
    "for x in data:\n",
    "    if x.isalpha():\n",
    "        result.append(x)\n",
    "    else:\n",
    "        value += int(x)\n",
    "        \n",
    "result.sort()\n",
    "\n",
    "if value != 0:\n",
    "    result.append(str(value))\n",
    "    \n",
    "print(''.join(result))"
   ]
  }
 ],
 "metadata": {
  "kernelspec": {
   "display_name": "Python 3",
   "language": "python",
   "name": "python3"
  },
  "language_info": {
   "codemirror_mode": {
    "name": "ipython",
    "version": 3
   },
   "file_extension": ".py",
   "mimetype": "text/x-python",
   "name": "python",
   "nbconvert_exporter": "python",
   "pygments_lexer": "ipython3",
   "version": "3.8.5"
  }
 },
 "nbformat": 4,
 "nbformat_minor": 4
}
