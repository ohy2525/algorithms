{
 "cells": [
  {
   "cell_type": "markdown",
   "metadata": {},
   "source": [
    "## 문제\n",
    "다솜이는 0과 1로만 이루어진 문자열 S를 가지고 있습니다. 다솜이는 이 문자열 S에 있는 모든 숫자를 전부 같게 만들려고 합니다. 다솜이가 할 수 있는 행동은 S에서 연속된 하나 이상의 숫자를 잡고 모두 뒤집는 것이다. 뒤집는 것은 1을 0으로, 0을 1로 바꾸는 것을 의미합니다.\n",
    "\n",
    "예를 들어 S=0001100일 때는 다음과 같습니다.\n",
    "\n",
    "1. 전체를 뒤집으면 1110011이 됩니다.\n",
    "\n",
    "2. 4번째 문자부터 5번째 문자까지 뒤집으면 1111111이 되어서 두번 만에 모두 같은 숫자로 만들 수 있습니다.\n",
    "\n",
    "하지만, 처음부터 4번째 문자부터 5번째 문자까지 문자를 뒤집으면 한번에 0000000이 되어서 1번 만에 모두 같은 숫자로 만들 수 있습니다.\n",
    "\n",
    "문자열 S가 주어졌을 때, 다솜이가 해야하는 행동의 최소 횟수를 출력하세요.\n",
    "\n",
    "## 입력\n",
    "첫째 줄에 0과 1로만 이루어진 문자열 S가 주어집니다.  S의 길이는 100만보다 작습니다. \n",
    "\n",
    "## 출력\n",
    "첫째 줄에 다솜이가 해야 하는 행동의 최소 횟수를 출력합니다.\n",
    "\n",
    "## 예시\n",
    "0001100     //     1"
   ]
  },
  {
   "cell_type": "code",
   "execution_count": null,
   "metadata": {},
   "outputs": [],
   "source": []
  }
 ],
 "metadata": {
  "kernelspec": {
   "display_name": "Python 3",
   "language": "python",
   "name": "python3"
  },
  "language_info": {
   "codemirror_mode": {
    "name": "ipython",
    "version": 3
   },
   "file_extension": ".py",
   "mimetype": "text/x-python",
   "name": "python",
   "nbconvert_exporter": "python",
   "pygments_lexer": "ipython3",
   "version": "3.8.5"
  }
 },
 "nbformat": 4,
 "nbformat_minor": 4
}
