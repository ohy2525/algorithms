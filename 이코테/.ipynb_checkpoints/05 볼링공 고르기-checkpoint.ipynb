{
 "cells": [
  {
   "cell_type": "markdown",
   "metadata": {},
   "source": [
    "## 문제\n",
    "A, B 두 사람이 볼링을 치고 있다. 두 사람은 서로 무게가 다른 볼링공을 고르려고 한다. 볼링공은 총 N개가 있으며 각 볼링공마다 무게가 적혀 있고, 공의 번호는 1번부터 순서대로 부여된다. 또한 같은 무게의 공이 여러개 있을 수 있지만, 서로 다른 것으로 간주한다. 볼링공의 무게는 1부터 M까지의 자연수 형태로 존재한다. 예를 들어, N이 5이고, M이 3이며, 각각의 무게가 차례대로 [1, 3, 2, 3, 2] 일때 각 공의 번호가 차례대로 1번부터 5번까지 부여한다. 이 때 두 사람이 서로 다른 공을 고를 수 있는 경우의 수는 총 8가지이다. N개의 공의 무게가 각각 주어질때, 두 사람이 볼링공을 고르는 경우의 수를 구해라.\n",
    "\n",
    "## 입력\n",
    "\n",
    "첫째 줄에 볼링공의 개수 N, 공의 최대 무게 M이 공백으로 구분되어 각각 자연수 형태로 주어진다.(1 <= N <= 1,000 , 1 <= M <= 10)\n",
    "\n",
    "둘째 줄에 각 볼링공의 무게 K가 공백으로 구분되어 순서대로 자연수 형태로 주어진다. ( 1<= K <= M)\n",
    "\n",
    "## 출력\n",
    "\n",
    "첫째 줄에 두 사람이 볼링공을 고르는 경우의 수를 출력해라.\n",
    "\n",
    "## 예시\n",
    "입력\n",
    "\n",
    "5 3\n",
    "\n",
    "1 3 2 3 2              \n",
    "\n",
    "출력\n",
    "\n",
    "8\n",
    "\n",
    "입력\n",
    "\n",
    "8 5\n",
    "\n",
    "1 5 4 3 2 4 5 2       \n",
    "\n",
    "출력\n",
    "\n",
    "25"
   ]
  },
  {
   "cell_type": "code",
   "execution_count": 3,
   "metadata": {},
   "outputs": [
    {
     "name": "stdout",
     "output_type": "stream",
     "text": [
      "8 5\n",
      "1 5 4 3 2 4 5 2\n"
     ]
    }
   ],
   "source": [
    "n, m = map(int, input().split())\n",
    "arr = list(map(int, input().split()))"
   ]
  },
  {
   "cell_type": "code",
   "execution_count": 4,
   "metadata": {},
   "outputs": [
    {
     "name": "stdout",
     "output_type": "stream",
     "text": [
      "25\n"
     ]
    }
   ],
   "source": [
    "ans = 0\n",
    "for i in range(n):\n",
    "    for j in range(i, n):\n",
    "        if arr[i] != arr[j]:\n",
    "            ans += 1\n",
    "print(ans)"
   ]
  }
 ],
 "metadata": {
  "kernelspec": {
   "display_name": "Python 3",
   "language": "python",
   "name": "python3"
  },
  "language_info": {
   "codemirror_mode": {
    "name": "ipython",
    "version": 3
   },
   "file_extension": ".py",
   "mimetype": "text/x-python",
   "name": "python",
   "nbconvert_exporter": "python",
   "pygments_lexer": "ipython3",
   "version": "3.8.5"
  }
 },
 "nbformat": 4,
 "nbformat_minor": 4
}
