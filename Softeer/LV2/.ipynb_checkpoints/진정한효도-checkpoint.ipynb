{
 "cells": [
  {
   "cell_type": "markdown",
   "metadata": {},
   "source": [
    "https://softeer.ai/practice/7374"
   ]
  },
  {
   "cell_type": "code",
   "execution_count": null,
   "metadata": {},
   "outputs": [],
   "source": [
    "import sys\n",
    "\n",
    "def func(a, b, c):\n",
    "    mid = a + b + c - min(a, b, c) - max(a, b, c)\n",
    "    return abs(mid - a) + abs(mid - b) + abs(mid - c)\n",
    "    \n",
    "graph = [list(map(int, input().split())) for _ in range(3)]\n",
    "answer = 10\n",
    "for i in range(3):\n",
    "    answer = min(answer, func(graph[i][0], graph[i][1], graph[i][2]))\n",
    "\n",
    "for i in range(3):\n",
    "    answer = min(answer, func(graph[0][i], graph[1][i], graph[2][i]))\n",
    "\n",
    "print(answer)"
   ]
  }
 ],
 "metadata": {
  "kernelspec": {
   "display_name": "Python 3",
   "language": "python",
   "name": "python3"
  },
  "language_info": {
   "codemirror_mode": {
    "name": "ipython",
    "version": 3
   },
   "file_extension": ".py",
   "mimetype": "text/x-python",
   "name": "python",
   "nbconvert_exporter": "python",
   "pygments_lexer": "ipython3",
   "version": "3.8.5"
  }
 },
 "nbformat": 4,
 "nbformat_minor": 4
}
