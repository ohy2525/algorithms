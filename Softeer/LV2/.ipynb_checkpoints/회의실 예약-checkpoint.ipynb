{
 "cells": [
  {
   "cell_type": "markdown",
   "id": "c4a811a0-a3d0-481b-a7fa-17e037a80a39",
   "metadata": {},
   "source": [
    "https://softeer.ai/practice/6266"
   ]
  },
  {
   "cell_type": "code",
   "execution_count": 1,
   "id": "8756c4a9-5522-4f9d-b7ec-73218e185e4b",
   "metadata": {},
   "outputs": [
    {
     "name": "stdin",
     "output_type": "stream",
     "text": [
      " 3 2\n",
      " santafe\n",
      " aerocity\n",
      " porter\n",
      " santafe 9 12\n",
      " porter 9 18\n"
     ]
    },
    {
     "name": "stdout",
     "output_type": "stream",
     "text": [
      "Room aerocity:\n",
      "1 available:\n",
      "09-18\n",
      "-----\n",
      "Room porter:\n",
      "Not available\n",
      "-----\n",
      "Room santafe:\n",
      "1 available:\n",
      "12-18\n"
     ]
    }
   ],
   "source": [
    "import sys\n",
    "\n",
    "n, m = 0, 0\n",
    "rooms = {}\n",
    "\n",
    "def check(times):\n",
    "    available = []\n",
    "    check = 9\n",
    "    for start, end in times:\n",
    "        if check < start:\n",
    "            available.append([check, start])\n",
    "        check = end\n",
    "\n",
    "    if check != 18:\n",
    "        available.append([check, 18])\n",
    "\n",
    "    if len(available) == 0:\n",
    "        print(\"Not available\")\n",
    "    else:\n",
    "        print(f\"{len(available)} available:\")\n",
    "        for t in available:\n",
    "            print(f\"{t[0]:02d}-{t[1]:02d}\")\n",
    "    \n",
    "def main():\n",
    "    n, m = map(int, input().split())\n",
    "    for _ in range(n):\n",
    "        room = input()\n",
    "        rooms[room] = []\n",
    "    \n",
    "    for _ in range(m):\n",
    "        r, s, e = input().split()\n",
    "        rooms[r].append([int(s), int(e)])\n",
    "\n",
    "    keyList = sorted(rooms.keys())\n",
    "    \n",
    "    for i in range(len(keyList)):\n",
    "        print(f\"Room {keyList[i]}:\")\n",
    "        check(sorted(rooms[keyList[i]]))\n",
    "        if i != len(rooms) - 1:\n",
    "            print(\"-----\")\n",
    "        \n",
    "if __name__ == \"__main__\":\n",
    "    main()"
   ]
  }
 ],
 "metadata": {
  "kernelspec": {
   "display_name": "Python 3 (ipykernel)",
   "language": "python",
   "name": "python3"
  },
  "language_info": {
   "codemirror_mode": {
    "name": "ipython",
    "version": 3
   },
   "file_extension": ".py",
   "mimetype": "text/x-python",
   "name": "python",
   "nbconvert_exporter": "python",
   "pygments_lexer": "ipython3",
   "version": "3.11.7"
  }
 },
 "nbformat": 4,
 "nbformat_minor": 5
}
