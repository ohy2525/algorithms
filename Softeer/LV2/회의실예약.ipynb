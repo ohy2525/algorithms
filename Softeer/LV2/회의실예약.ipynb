{
 "cells": [
  {
   "cell_type": "markdown",
   "metadata": {},
   "source": [
    "https://softeer.ai/practice/6266"
   ]
  },
  {
   "cell_type": "code",
   "execution_count": null,
   "metadata": {},
   "outputs": [],
   "source": [
    "import sys\n",
    "input = sys.stdin.readline\n",
    "\n",
    "def checkTime(times):\n",
    "    available = []\n",
    "    check = 9\n",
    "    for time in times:\n",
    "        start, end = time[0], time[1]\n",
    "        if (check < start):\n",
    "            available.append([check, start])\n",
    "        check = end\n",
    "\n",
    "    if(check != 18):\n",
    "        available.append([check,18])\n",
    "    \n",
    "    length = len(available)\n",
    "    if(length==0):\n",
    "        print(\"Not available\")\n",
    "    else:\n",
    "        print(length, \"available:\")\n",
    "        for start, end in available:\n",
    "            if(start == 9): start = \"09\"\n",
    "            print(str(start)+\"-\"+str(end))\n",
    "                \n",
    "                \n",
    "n, m = map(int,input().split())\n",
    "reservations = dict()\n",
    "for _ in range(n):\n",
    "    room = input()\n",
    "    reservations[room[:-1]] = []\n",
    "\n",
    "for _ in range(m):\n",
    "    room, start, tend = map(str, input().split())\n",
    "    reservations[room].append([int(start), int(tend)])\n",
    "\n",
    "last_check = False\n",
    "\n",
    "for room, times in sorted(reservations.items()):\n",
    "    times.sort(key=lambda x: x[0])\n",
    "    \n",
    "    print(\"Room \"+room+\":\")\n",
    "    checkTime(times)\n",
    "    \n",
    "    n-=1\n",
    "    if(n != 0): \n",
    "        print(\"-----\")"
   ]
  }
 ],
 "metadata": {
  "kernelspec": {
   "display_name": "Python 3",
   "language": "python",
   "name": "python3"
  },
  "language_info": {
   "codemirror_mode": {
    "name": "ipython",
    "version": 3
   },
   "file_extension": ".py",
   "mimetype": "text/x-python",
   "name": "python",
   "nbconvert_exporter": "python",
   "pygments_lexer": "ipython3",
   "version": "3.8.5"
  }
 },
 "nbformat": 4,
 "nbformat_minor": 4
}
