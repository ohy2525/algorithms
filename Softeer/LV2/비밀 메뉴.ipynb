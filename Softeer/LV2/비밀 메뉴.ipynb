{
 "cells": [
  {
   "cell_type": "markdown",
   "metadata": {},
   "source": [
    "https://softeer.ai/practice/6269"
   ]
  },
  {
   "cell_type": "code",
   "execution_count": 23,
   "metadata": {},
   "outputs": [
    {
     "name": "stdout",
     "output_type": "stream",
     "text": [
      "4 10 3\n",
      "2 1 3 2\n",
      "1 3 2 1 3 2 1 3 2 1\n",
      "normal\n"
     ]
    }
   ],
   "source": [
    "m, n, k = map(int, input().split())\n",
    "secret = list(map(int, input().split()))\n",
    "user = list(map(int, input().split()))\n",
    "\n",
    "s = set()\n",
    "for i in range(n - m + 1):\n",
    "    tmp = \"\"\n",
    "    for j in range(m):\n",
    "        tmp += str(user[i + j])\n",
    "    s.add(tmp)\n",
    "    \n",
    "print(\"secret\" if ''.join(str(s) for s in secret) in s else \"normal\")"
   ]
  }
 ],
 "metadata": {
  "kernelspec": {
   "display_name": "Python 3",
   "language": "python",
   "name": "python3"
  },
  "language_info": {
   "codemirror_mode": {
    "name": "ipython",
    "version": 3
   },
   "file_extension": ".py",
   "mimetype": "text/x-python",
   "name": "python",
   "nbconvert_exporter": "python",
   "pygments_lexer": "ipython3",
   "version": "3.8.5"
  }
 },
 "nbformat": 4,
 "nbformat_minor": 4
}
