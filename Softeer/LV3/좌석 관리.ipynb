{
 "cells": [
  {
   "cell_type": "markdown",
   "metadata": {},
   "source": [
    "https://softeer.ai/practice/6267"
   ]
  },
  {
   "cell_type": "code",
   "execution_count": 11,
   "metadata": {},
   "outputs": [
    {
     "name": "stdout",
     "output_type": "stream",
     "text": [
      "4 4 7\n",
      "In 7\n",
      "7 gets the seat (1, 1).\n",
      "In 6\n",
      "6 gets the seat (4, 4).\n",
      "In 5\n",
      "5 gets the seat (1, 4).\n",
      "In 4\n",
      "4 gets the seat (4, 1).\n",
      "In 3\n",
      "3 gets the seat (2, 2).\n",
      "In 2\n",
      "2 gets the seat (3, 3).\n",
      "In 1\n",
      "There are no more seats.\n"
     ]
    }
   ],
   "source": [
    "import sys\n",
    "\n",
    "n, m, q = map(int, input().split())\n",
    "ID = [0] * (10**4 + 1)\n",
    "table = [[0] * (m + 2) for _ in range(n + 2)]\n",
    "\n",
    "def nearest(x, y):\n",
    "    minD = 1000\n",
    "    for i in range(1, n + 1):\n",
    "        for j in range(1, m + 1):\n",
    "            if table[i][j]:\n",
    "                d = (x - i)**2 + (y - j)**2\n",
    "                if d < minD:\n",
    "                    minD = d\n",
    "                        \n",
    "    return minD\n",
    "\n",
    "def assign(pid):\n",
    "    maxD = 0\n",
    "    for i in range(1, n + 1):\n",
    "        for j in range(1, m + 1):\n",
    "            if table[i][j] == 0 and table[i - 1][j] == 0 and table[i + 1][j] == 0 and table[i][j - 1] == 0 and table[i][j + 1] == 0:\n",
    "                d = nearest(i, j)\n",
    "                if d > maxD:\n",
    "                    maxD = d\n",
    "                    ID[pid] = [i, j]\n",
    "                \n",
    "    if maxD == 0:\n",
    "        return False\n",
    "    else:\n",
    "        table[ID[pid][0]][ID[pid][1]] = 1\n",
    "        return True\n",
    "\n",
    "              \n",
    "for _ in range(q):\n",
    "    inOut, pid = input().split()\n",
    "    pid = int(pid)\n",
    "    \n",
    "    if inOut == \"In\":\n",
    "        if ID[pid] == 0:\n",
    "            if assign(pid):\n",
    "                print(f\"{pid} gets the seat ({ID[pid][0]}, {ID[pid][1]}).\")\n",
    "            else:\n",
    "                print(\"There are no more seats.\")\n",
    "        elif ID[pid] == 1:\n",
    "            print(f\"{pid} already ate lunch.\")\n",
    "        else:\n",
    "            print(f\"{pid} already seated.\")\n",
    "            \n",
    "    else:\n",
    "        if ID[pid] == 0:\n",
    "            print(f\"{pid} didn't eat lunch.\")\n",
    "        elif ID[pid] == 1:\n",
    "            print(f\"{pid} already left seat.\")\n",
    "        else:\n",
    "            print(f\"{pid} leaves from the seat ({ID[pid][0]}, {ID[pid][1]}).\")\n",
    "            table[ID[pid][0]][ID[pid][1]] = 0\n",
    "            ID[pid] = 1"
   ]
  }
 ],
 "metadata": {
  "kernelspec": {
   "display_name": "Python 3",
   "language": "python",
   "name": "python3"
  },
  "language_info": {
   "codemirror_mode": {
    "name": "ipython",
    "version": 3
   },
   "file_extension": ".py",
   "mimetype": "text/x-python",
   "name": "python",
   "nbconvert_exporter": "python",
   "pygments_lexer": "ipython3",
   "version": "3.8.5"
  }
 },
 "nbformat": 4,
 "nbformat_minor": 4
}
