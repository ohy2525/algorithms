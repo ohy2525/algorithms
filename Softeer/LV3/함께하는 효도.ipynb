{
 "cells": [
  {
   "cell_type": "markdown",
   "metadata": {},
   "source": [
    "https://softeer.ai/practice/7727"
   ]
  },
  {
   "cell_type": "code",
   "execution_count": 1,
   "metadata": {},
   "outputs": [
    {
     "name": "stdout",
     "output_type": "stream",
     "text": [
      "4 2\n",
      "20 26 185 80\n",
      "100 20 25 80\n",
      "20 20 88 99\n",
      "15 32 44 50\n",
      "1 2\n",
      "2 3\n",
      "633\n"
     ]
    }
   ],
   "source": [
    "def dfs(x, y, cnt, route, idx):\n",
    "    if cnt == 3:\n",
    "        all_route[idx].append(route[:])\n",
    "        return\n",
    "    \n",
    "    for i in range(4):\n",
    "        nx = x + dx[i]\n",
    "        ny = y + dy[i]\n",
    "        \n",
    "        if 0 <= nx < n and 0 <= ny < n and not visited[nx][ny]:\n",
    "            visited[nx][ny] = True\n",
    "            route.append((nx, ny))\n",
    "            dfs(nx, ny, cnt + 1, route, idx)\n",
    "            route.pop()\n",
    "            visited[nx][ny] = False\n",
    "            \n",
    "def calculate_max_sum(idx, routes):\n",
    "    if idx == len(all_route):\n",
    "        tmp = set()\n",
    "        for route in routes:\n",
    "            tmp |= set(route)\n",
    "        tmp_sum = sum(graph[x][y] for x, y in tmp)\n",
    "        global answer\n",
    "        answer = max(answer, tmp_sum)\n",
    "        return\n",
    "    \n",
    "    for route in all_route[idx]:\n",
    "        calculate_max_sum(idx + 1, routes + [route])\n",
    "            \n",
    "dx = [0, 1, 0, -1]\n",
    "dy = [1, 0, -1, 0]\n",
    "\n",
    "n, m = map(int, input().split())\n",
    "graph = []\n",
    "for _ in range(n):\n",
    "    graph.append(list(map(int, input().split())))\n",
    "    \n",
    "pos = []\n",
    "for _ in range(m):\n",
    "    pos.append(list(map(int, input().split())))\n",
    "    \n",
    "all_route = [[] for _ in range(m)]\n",
    "\n",
    "for i in range(m):\n",
    "    x = pos[i][0] - 1\n",
    "    y = pos[i][1] - 1\n",
    "    visited = [[False] * n for _ in range(n)]\n",
    "    route = [(x, y)]\n",
    "    dfs(x, y, 0, route, i)\n",
    "\n",
    "\n",
    "answer = 0\n",
    "calculate_max_sum(0, [])\n",
    "print(answer)"
   ]
  }
 ],
 "metadata": {
  "kernelspec": {
   "display_name": "Python 3",
   "language": "python",
   "name": "python3"
  },
  "language_info": {
   "codemirror_mode": {
    "name": "ipython",
    "version": 3
   },
   "file_extension": ".py",
   "mimetype": "text/x-python",
   "name": "python",
   "nbconvert_exporter": "python",
   "pygments_lexer": "ipython3",
   "version": "3.8.5"
  }
 },
 "nbformat": 4,
 "nbformat_minor": 4
}
