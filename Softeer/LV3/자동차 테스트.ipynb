{
 "cells": [
  {
   "cell_type": "markdown",
   "metadata": {},
   "source": [
    "https://softeer.ai/practice/6247"
   ]
  },
  {
   "cell_type": "code",
   "execution_count": 23,
   "metadata": {},
   "outputs": [
    {
     "name": "stdout",
     "output_type": "stream",
     "text": [
      "5 3\n",
      "5 2 3 1 6\n",
      "1\n",
      "0\n",
      "3\n",
      "4\n",
      "6\n",
      "0\n"
     ]
    }
   ],
   "source": [
    "n, p = map(int, input().split())\n",
    "arr = list(map(int, input().split()))\n",
    "arr.sort()\n",
    "for _ in range(p):\n",
    "    target = int(input())\n",
    "    l = 0\n",
    "    r = n - 1\n",
    "    while l <= r:\n",
    "        m = (l + r) // 2\n",
    "        if arr[m] == target:\n",
    "            break\n",
    "        if arr[m] > target:\n",
    "            r = m - 1\n",
    "        else:\n",
    "            l = m + 1\n",
    "    if target == arr[m]:        \n",
    "        print(m * (n - m - 1))\n",
    "    else:\n",
    "        print(0)"
   ]
  }
 ],
 "metadata": {
  "kernelspec": {
   "display_name": "Python 3",
   "language": "python",
   "name": "python3"
  },
  "language_info": {
   "codemirror_mode": {
    "name": "ipython",
    "version": 3
   },
   "file_extension": ".py",
   "mimetype": "text/x-python",
   "name": "python",
   "nbconvert_exporter": "python",
   "pygments_lexer": "ipython3",
   "version": "3.8.5"
  }
 },
 "nbformat": 4,
 "nbformat_minor": 4
}
