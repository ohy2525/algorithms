{
 "cells": [
  {
   "cell_type": "markdown",
   "metadata": {},
   "source": [
    "https://softeer.ai/practice/6259"
   ]
  },
  {
   "cell_type": "code",
   "execution_count": 1,
   "metadata": {},
   "outputs": [
    {
     "name": "stdout",
     "output_type": "stream",
     "text": [
      "3 4 4\n",
      "2 3 1\n",
      "3 1 4 2\n",
      "2\n"
     ]
    }
   ],
   "source": [
    "import sys\n",
    "\n",
    "n, m, k = map(int, input().split())\n",
    "\n",
    "arr1 = list(input().split())\n",
    "arr2 = list(input().split())\n",
    "dp = [[0] * m for _ in range(n)]\n",
    "\n",
    "answer = 0\n",
    "for i in range(n):\n",
    "    for j in range(m):\n",
    "        if arr1[i] == arr2[j]:\n",
    "            if i == 0 or j == 0:\n",
    "                dp[i][j] = 1\n",
    "            else:\n",
    "                dp[i][j] = dp[i - 1][j - 1] + 1\n",
    "            answer = max(answer, dp[i][j])\n",
    "\n",
    "print(answer)"
   ]
  }
 ],
 "metadata": {
  "kernelspec": {
   "display_name": "Python 3",
   "language": "python",
   "name": "python3"
  },
  "language_info": {
   "codemirror_mode": {
    "name": "ipython",
    "version": 3
   },
   "file_extension": ".py",
   "mimetype": "text/x-python",
   "name": "python",
   "nbconvert_exporter": "python",
   "pygments_lexer": "ipython3",
   "version": "3.8.5"
  }
 },
 "nbformat": 4,
 "nbformat_minor": 4
}
