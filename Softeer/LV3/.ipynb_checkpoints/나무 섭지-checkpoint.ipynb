{
 "cells": [
  {
   "cell_type": "markdown",
   "id": "529115b5-bb95-4b84-bcf7-2d5838a1cd91",
   "metadata": {},
   "source": [
    "https://softeer.ai/practice/7726"
   ]
  },
  {
   "cell_type": "code",
   "execution_count": 1,
   "id": "5677109a-711e-4f70-94ba-5d9d49381ebc",
   "metadata": {},
   "outputs": [
    {
     "name": "stdin",
     "output_type": "stream",
     "text": [
      " 1 5\n",
      " D#.NG\n"
     ]
    },
    {
     "name": "stdout",
     "output_type": "stream",
     "text": [
      "No\n"
     ]
    }
   ],
   "source": [
    "import sys\n",
    "from collections import deque\n",
    "\n",
    "dx = [-1, 0, 1, 0]\n",
    "dy = [0, 1, 0, -1]\n",
    "\n",
    "n, m = 0, 0\n",
    "graph = []\n",
    "\n",
    "def bfs_namwoo():\n",
    "    namwoo = [[0] * m for _ in range(n)]\n",
    "    visited_namwoo = [[False] * m for _ in range(n)]\n",
    "    cnt_namwoo = 0\n",
    "    nr, nc = 0, 0\n",
    "    \n",
    "    for i in range(n):\n",
    "        for j in range(m):\n",
    "            if graph[i][j] == 'N':\n",
    "                nr, nc = i, j\n",
    "                visited_namwoo[nr][nc] = True\n",
    "            \n",
    "    q = deque([(nr, nc)])\n",
    "    while q:\n",
    "        x, y = q.popleft()\n",
    "        for i in range(4):\n",
    "            nx = x + dx[i]\n",
    "            ny = y + dy[i]\n",
    "            if 0 <= nx < n and 0 <= ny < m and graph[nx][ny] != '#' and not visited_namwoo[nx][ny]:\n",
    "                namwoo[nx][ny] = namwoo[x][y] + 1\n",
    "                if graph[nx][ny] == 'D':\n",
    "                    cnt_namwoo = namwoo[nx][ny]\n",
    "                    break\n",
    "                visited_namwoo[nx][ny] = True\n",
    "                q.append((nx, ny))\n",
    "\n",
    "    return cnt_namwoo\n",
    "    \n",
    "def bfs_ghost():\n",
    "    cnt_ghost = sys.maxsize    \n",
    "    ghost_pos = []\n",
    "    for i in range(n):\n",
    "        for j in range(m):\n",
    "            if graph[i][j] == 'G':\n",
    "                ghost_pos.append([i, j])\n",
    "            if graph[i][j] == 'D':\n",
    "                Dx, Dy = i, j\n",
    "    \n",
    "    distance = sys.maxsize\n",
    "    gx, gy = 0, 0\n",
    "    for x, y in ghost_pos:\n",
    "        if abs(Dx - x) + abs(Dy - y) < distance:\n",
    "            distance = abs(Dx - x) + abs(Dy - y)\n",
    "            gx, gy = x, y\n",
    "    \n",
    "    ghost = [[0] * m for _ in range(n)]\n",
    "    visited_ghost = [[False] * m for _ in range(n)]\n",
    "    \n",
    "    q = deque([(gx, gy)])\n",
    "    while q:\n",
    "        x, y = q.popleft()\n",
    "        for i in range(4):\n",
    "            nx = x + dx[i]\n",
    "            ny = y + dy[i]\n",
    "            if 0 <= nx < n and 0 <= ny < m and not visited_ghost[nx][ny]:\n",
    "                ghost[nx][ny] = ghost[x][y] + 1\n",
    "                if graph[nx][ny] == 'D':\n",
    "                    cnt_ghost = min(cnt_ghost, ghost[nx][ny])\n",
    "                    break\n",
    "                visited_ghost[nx][ny] = True\n",
    "                q.append((nx, ny))\n",
    "\n",
    "    return cnt_ghost\n",
    "    \n",
    "def main():\n",
    "    global n, m\n",
    "    n, m = map(int, input().split())\n",
    "    for _ in range(n):\n",
    "        graph.append(list(input()))\n",
    "\n",
    "    cnt_namwoo = bfs_namwoo()\n",
    "    cnt_ghost = bfs_ghost()\n",
    "\n",
    "    print(\"Yes\" if cnt_namwoo != 0 and cnt_ghost > cnt_namwoo else \"No\")\n",
    "    \n",
    "if __name__ == \"__main__\":\n",
    "    main()"
   ]
  }
 ],
 "metadata": {
  "kernelspec": {
   "display_name": "Python 3 (ipykernel)",
   "language": "python",
   "name": "python3"
  },
  "language_info": {
   "codemirror_mode": {
    "name": "ipython",
    "version": 3
   },
   "file_extension": ".py",
   "mimetype": "text/x-python",
   "name": "python",
   "nbconvert_exporter": "python",
   "pygments_lexer": "ipython3",
   "version": "3.11.7"
  }
 },
 "nbformat": 4,
 "nbformat_minor": 5
}
