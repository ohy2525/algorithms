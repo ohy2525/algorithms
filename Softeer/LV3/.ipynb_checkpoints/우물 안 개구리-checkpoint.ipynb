{
 "cells": [
  {
   "cell_type": "markdown",
   "metadata": {},
   "source": [
    "https://softeer.ai/practice/6289"
   ]
  },
  {
   "cell_type": "code",
   "execution_count": null,
   "metadata": {},
   "outputs": [],
   "source": [
    "import sys\n",
    "input = sys.stdin.readline\n",
    "n, m = map(int, input().split())\n",
    "\n",
    "weight = [0]\n",
    "weight.extend(list(map(int, input().split())))\n",
    "arr = [[] for _ in range(n + 1)]\n",
    "\n",
    "for _ in range(m):\n",
    "    a, b = map(int, input().split())\n",
    "    arr[a].append(weight[b])\n",
    "    arr[b].append(weight[a])\n",
    "\n",
    "answer = 0\n",
    "\n",
    "for i in range(1, n + 1):\n",
    "    if len(arr[i]) == 0:\n",
    "        answer += 1\n",
    "        continue\n",
    "    tmp = arr[i]\n",
    "    tmp.sort()\n",
    "    if tmp[-1] < weight[i]:\n",
    "        answer += 1\n",
    "        \n",
    "print(answer)"
   ]
  }
 ],
 "metadata": {
  "kernelspec": {
   "display_name": "Python 3",
   "language": "python",
   "name": "python3"
  },
  "language_info": {
   "codemirror_mode": {
    "name": "ipython",
    "version": 3
   },
   "file_extension": ".py",
   "mimetype": "text/x-python",
   "name": "python",
   "nbconvert_exporter": "python",
   "pygments_lexer": "ipython3",
   "version": "3.8.5"
  }
 },
 "nbformat": 4,
 "nbformat_minor": 4
}
