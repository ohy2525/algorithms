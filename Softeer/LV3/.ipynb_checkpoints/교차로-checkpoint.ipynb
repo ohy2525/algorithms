{
 "cells": [
  {
   "cell_type": "markdown",
   "metadata": {},
   "source": [
    "https://softeer.ai/practice/6256"
   ]
  },
  {
   "cell_type": "code",
   "execution_count": null,
   "metadata": {},
   "outputs": [],
   "source": [
    "import sys\n",
    "from collections import deque\n",
    "\n",
    "input = sys.stdin.readline\n",
    "\n",
    "def get_d(d):\n",
    "    if d == 'A':\n",
    "        return 0\n",
    "    elif d == 'B':\n",
    "        return 1\n",
    "    elif d == 'C':\n",
    "        return 2\n",
    "    else:\n",
    "        return 3\n",
    "        \n",
    "\n",
    "q = [deque([]), deque([]), deque([]), deque([])]\n",
    "\n",
    "n = int(input())\n",
    "for i in range(n):\n",
    "    t, d = input().split()\n",
    "    d = get_d(d)\n",
    "    q[d].append([int(t), i])\n",
    "    \n",
    "answer = [-1] * n\n",
    "waiting = [False] * 4\n",
    "min_time = sys.maxsize\n",
    "cur_time = -1\n",
    "\n",
    "while q[0] or q[1] or q[2] or q[3]:\n",
    "    for i in range(4):\n",
    "        if q[i]:\n",
    "            time = q[i][0][0]\n",
    "            min_time = min(time, min_time)\n",
    "            if time <= cur_time:\n",
    "                waiting[i] = True\n",
    "    if sum(waiting) == 4:\n",
    "        break\n",
    "\n",
    "    if sum(waiting) == 0:\n",
    "        cur_time = min_time\n",
    "        continue\n",
    "\n",
    "    for i in range(4):\n",
    "        if waiting[i] and not waiting[(i - 1) % 4]:\n",
    "            _, idx = q[i].popleft()\n",
    "            answer[idx] = cur_time\n",
    "    for i in range(4):\n",
    "        waiting[i] = False\n",
    "\n",
    "    cur_time += 1\n",
    "\n",
    "for ans in answer:\n",
    "    print(ans)"
   ]
  }
 ],
 "metadata": {
  "kernelspec": {
   "display_name": "Python 3",
   "language": "python",
   "name": "python3"
  },
  "language_info": {
   "codemirror_mode": {
    "name": "ipython",
    "version": 3
   },
   "file_extension": ".py",
   "mimetype": "text/x-python",
   "name": "python",
   "nbconvert_exporter": "python",
   "pygments_lexer": "ipython3",
   "version": "3.8.5"
  }
 },
 "nbformat": 4,
 "nbformat_minor": 4
}
