{
 "cells": [
  {
   "cell_type": "markdown",
   "metadata": {},
   "source": [
    "https://softeer.ai/practice/6271"
   ]
  },
  {
   "cell_type": "code",
   "execution_count": null,
   "metadata": {},
   "outputs": [],
   "source": [
    "import sys\n",
    "input = sys.stdin.readline\n",
    "\n",
    "r, c = map(int, input().split())\n",
    "graph = [list(input().rstrip()) for _ in range(r)]\n",
    "dx = [-1, 1, 0, 0]\n",
    "dy = [0, 0, -1, 1]\n",
    "\n",
    "def rain():\n",
    "    pos = []\n",
    "    for i in range(r):\n",
    "        for j in range(c):\n",
    "            if graph[i][j] == '*':\n",
    "                for k in range(4):\n",
    "                    nx = i + dx[k]\n",
    "                    ny = j + dy[k]\n",
    "                    if 0 <= nx < r and 0 <= ny < c and (graph[nx][ny] == '.' or graph[nx][ny] == 'v'):\n",
    "                        pos.append((nx, ny))\n",
    "    for x, y in pos:\n",
    "        graph[x][y] = '*'\n",
    "\n",
    "def move():\n",
    "    pos = []\n",
    "    global cnt, answer\n",
    "    for i in range(r):\n",
    "        for j in range(c):\n",
    "            if graph[i][j] == 'W' or graph[i][j] == 'v':\n",
    "                for k in range(4):\n",
    "                    nx = i + dx[k]\n",
    "                    ny = j + dy[k]\n",
    "                    if 0 <= nx < r and 0 <= ny < c and grapn[nx][ny] == '.':\n",
    "                        pos.append((nx, ny))\n",
    "\n",
    "    for x, y in pos:\n",
    "        if graph[x][y] == 'H':\n",
    "            answer = cnt\n",
    "        graph[x][y] = 'v'\n",
    "\n",
    "HX, HY = 0, 0\n",
    "for i in range(r):\n",
    "    for j in range(c):\n",
    "        if graph[i][j] == 'H':\n",
    "            HX, HY = i, j\n",
    "answer = 0\n",
    "cnt = 0\n",
    "while graph[HX][HY] == 'H':\n",
    "    move()\n",
    "    rain()\n",
    "    cnt += 1\n",
    "\n"
   ]
  }
 ],
 "metadata": {
  "kernelspec": {
   "display_name": "Python 3",
   "language": "python",
   "name": "python3"
  },
  "language_info": {
   "codemirror_mode": {
    "name": "ipython",
    "version": 3
   },
   "file_extension": ".py",
   "mimetype": "text/x-python",
   "name": "python",
   "nbconvert_exporter": "python",
   "pygments_lexer": "ipython3",
   "version": "3.8.5"
  }
 },
 "nbformat": 4,
 "nbformat_minor": 4
}
