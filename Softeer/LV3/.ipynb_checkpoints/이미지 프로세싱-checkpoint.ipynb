{
 "cells": [
  {
   "cell_type": "markdown",
   "metadata": {},
   "source": [
    "https://softeer.ai/practice/6265/history?questionType=ALGORITHM"
   ]
  },
  {
   "cell_type": "code",
   "execution_count": null,
   "metadata": {},
   "outputs": [],
   "source": [
    "import sys\n",
    "\n",
    "sys.setrecursionlimit(10**5)\n",
    "input = sys.stdin.readline\n",
    "\n",
    "def dfs(x, y, c):\n",
    "    t = graph[x][y]\n",
    "    graph[x][y] = c\n",
    "    \n",
    "    if graph[x - 1][y] == t:\n",
    "        dfs(x - 1,y,c)\n",
    "    if graph[x + 1][y] == t:\n",
    "        dfs(x + 1, y, c)\n",
    "    if graph[x][y - 1] == t:\n",
    "        dfs(x,y - 1,c)\n",
    "    if graph[x][y + 1] == t:\n",
    "        dfs(x,y + 1,c)\n",
    "    return\n",
    "\n",
    "H, W = map(int, input().split())\n",
    "graph = [[0] * (W + 2)]\n",
    "for _ in range(H):\n",
    "    graph.append([0] + list(map(int, input().split())) + [0])\n",
    "graph.append([0] * (W + 2))\n",
    "\n",
    "Q = int(input())\n",
    "for _ in range(Q):\n",
    "    i, j, c = map(int, input().split())\n",
    "    if graph[i][j] != c:\n",
    "        dfs(i, j, c)\n",
    "    \n",
    "for i in range(1, H + 1):\n",
    "    print(*graph[i][1:-1])"
   ]
  }
 ],
 "metadata": {
  "kernelspec": {
   "display_name": "Python 3",
   "language": "python",
   "name": "python3"
  },
  "language_info": {
   "codemirror_mode": {
    "name": "ipython",
    "version": 3
   },
   "file_extension": ".py",
   "mimetype": "text/x-python",
   "name": "python",
   "nbconvert_exporter": "python",
   "pygments_lexer": "ipython3",
   "version": "3.8.5"
  }
 },
 "nbformat": 4,
 "nbformat_minor": 4
}
