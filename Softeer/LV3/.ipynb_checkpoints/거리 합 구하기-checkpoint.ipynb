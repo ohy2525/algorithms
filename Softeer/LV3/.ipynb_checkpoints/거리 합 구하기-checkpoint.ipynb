{
 "cells": [
  {
   "cell_type": "markdown",
   "metadata": {},
   "source": [
    "https://softeer.ai/practice/6258"
   ]
  },
  {
   "cell_type": "code",
   "execution_count": 1,
   "metadata": {},
   "outputs": [
    {
     "name": "stdout",
     "output_type": "stream",
     "text": [
      "4\n",
      "1 2 1\n",
      "2 3 2\n",
      "3 4 4\n",
      "11\n",
      "9\n",
      "9\n",
      "17\n"
     ]
    }
   ],
   "source": [
    "import sys\n",
    "\n",
    "#input = sys.stdin.readline\n",
    "sys.setrecursionlimit(10**6)\n",
    "\n",
    "n = int(input())\n",
    "nodes = [[] for _ in range(n + 1)]\n",
    "for _ in range(n - 1):\n",
    "    x, y, t = map(int, input().split())\n",
    "    nodes[x].append([y, t])\n",
    "    nodes[y].append([x, t])\n",
    "    \n",
    "sub_size = [0] * (n + 1)\n",
    "distance = [0] * (n + 1)\n",
    "\n",
    "def dfs(current, parent):\n",
    "    sub_size[current] = 1\n",
    "    for i in range(len(nodes[current])):\n",
    "        child = nodes[current][i][0]\n",
    "        weight = nodes[current][i][1]\n",
    "        if child != parent:\n",
    "            dfs(child, current)\n",
    "            distance[current] += distance[child] + sub_size[child] * weight\n",
    "            sub_size[current] += sub_size[child]\n",
    "def dfs2(current, parent):\n",
    "    for i in range(len(nodes[current])):\n",
    "        child = nodes[current][i][0]\n",
    "        weight = nodes[current][i][1]\n",
    "        if child != parent:\n",
    "            distance[child] = distance[current] + weight * (n - 2 * sub_size[child])\n",
    "            dfs2(child, current)\n",
    "            \n",
    "dfs(1, 1)\n",
    "dfs2(1, 1)\n",
    "\n",
    "for i in range(1, n + 1):\n",
    "    print(distance[i])"
   ]
  }
 ],
 "metadata": {
  "kernelspec": {
   "display_name": "Python 3",
   "language": "python",
   "name": "python3"
  },
  "language_info": {
   "codemirror_mode": {
    "name": "ipython",
    "version": 3
   },
   "file_extension": ".py",
   "mimetype": "text/x-python",
   "name": "python",
   "nbconvert_exporter": "python",
   "pygments_lexer": "ipython3",
   "version": "3.8.5"
  }
 },
 "nbformat": 4,
 "nbformat_minor": 4
}
