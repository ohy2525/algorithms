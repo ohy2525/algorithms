{
 "cells": [
  {
   "cell_type": "markdown",
   "metadata": {},
   "source": [
    "https://softeer.ai/practice/6279"
   ]
  },
  {
   "cell_type": "code",
   "execution_count": null,
   "metadata": {},
   "outputs": [],
   "source": [
    "import sys\n",
    "\n",
    "input = sys.stdin.readline\n",
    "n, k = map(int, input().split())\n",
    "arr = list(input())\n",
    "visited = [False] * n\n",
    "for i in range(n):\n",
    "    if arr[i] == 'P':\n",
    "        for j in range(i - k, i + k + 1):\n",
    "            if j < 0 or j >= n:\n",
    "                continue\n",
    "            else:\n",
    "                if arr[j] == 'H' and not visited[j]:\n",
    "                    visited[j] = True\n",
    "                    break\n",
    "\n",
    "print(sum(visited))"
   ]
  }
 ],
 "metadata": {
  "kernelspec": {
   "display_name": "Python 3",
   "language": "python",
   "name": "python3"
  },
  "language_info": {
   "codemirror_mode": {
    "name": "ipython",
    "version": 3
   },
   "file_extension": ".py",
   "mimetype": "text/x-python",
   "name": "python",
   "nbconvert_exporter": "python",
   "pygments_lexer": "ipython3",
   "version": "3.8.5"
  }
 },
 "nbformat": 4,
 "nbformat_minor": 4
}
