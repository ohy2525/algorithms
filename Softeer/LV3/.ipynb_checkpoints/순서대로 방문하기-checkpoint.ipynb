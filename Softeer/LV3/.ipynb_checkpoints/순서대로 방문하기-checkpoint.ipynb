{
 "cells": [
  {
   "cell_type": "markdown",
   "metadata": {},
   "source": [
    "https://softeer.ai/practice/6246"
   ]
  },
  {
   "cell_type": "code",
   "execution_count": null,
   "metadata": {},
   "outputs": [],
   "source": [
    "def dfs(now, targetIdx):\n",
    "    global cnt\n",
    "    if now == target[targetIdx]:\n",
    "        if targetIdx == m - 1:\n",
    "            cnt += 1\n",
    "            return\n",
    "        else:\n",
    "            targetIdx += 1\n",
    "    x, y = now\n",
    "    visited[x][y] = True\n",
    "    for i in range(4):\n",
    "        nx = x + dx[i]\n",
    "        ny = y + dy[i]\n",
    "        if 0 <= nx < n and 0 <= ny < n and not visited[nx][ny] and graph[nx][ny] == 0:\n",
    "            dfs([nx, ny], targetIdx)\n",
    "            \n",
    "    visited[x][y] = False\n",
    "    return\n",
    "            \n",
    "import sys\n",
    "n, m = map(int, input().split())\n",
    "graph = [list(map(int, input().split())) for _ in range(n)]\n",
    "target = []\n",
    "for _ in range(m):\n",
    "    x, y = map(int, input().split())\n",
    "    target.append([x - 1, y - 1])\n",
    "    \n",
    "visited = [[False for _ in range(n)] for _ in range(n)]\n",
    "cnt = 0\n",
    "dx = [-1, 1, 0, 0]\n",
    "dy = [0, 0, -1, 1]\n",
    "\n",
    "dfs(target[0], 1)\n",
    "print(cnt)"
   ]
  }
 ],
 "metadata": {
  "kernelspec": {
   "display_name": "Python 3",
   "language": "python",
   "name": "python3"
  },
  "language_info": {
   "codemirror_mode": {
    "name": "ipython",
    "version": 3
   },
   "file_extension": ".py",
   "mimetype": "text/x-python",
   "name": "python",
   "nbconvert_exporter": "python",
   "pygments_lexer": "ipython3",
   "version": "3.8.5"
  }
 },
 "nbformat": 4,
 "nbformat_minor": 4
}
