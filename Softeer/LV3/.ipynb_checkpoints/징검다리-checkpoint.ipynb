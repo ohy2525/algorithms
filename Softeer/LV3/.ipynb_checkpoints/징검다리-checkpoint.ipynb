{
 "cells": [
  {
   "cell_type": "markdown",
   "metadata": {},
   "source": [
    "https://softeer.ai/practice/6293"
   ]
  },
  {
   "cell_type": "code",
   "execution_count": null,
   "metadata": {},
   "outputs": [],
   "source": [
    "import sys\n",
    "input = sys.stdin.readline\n",
    "\n",
    "n = int(input())\n",
    "stone = list(map(int, input().split()))\n",
    "\n",
    "dp = [1] * n\n",
    "\n",
    "for i in range(1, n):\n",
    "    cnt = 0\n",
    "    for j in range(i):\n",
    "        if stone[j] < stone[i]:\n",
    "            cnt = max(cnt, dp[j])\n",
    "\n",
    "    dp[i] = cnt + 1\n",
    "\n",
    "print(max(dp))"
   ]
  }
 ],
 "metadata": {
  "kernelspec": {
   "display_name": "Python 3",
   "language": "python",
   "name": "python3"
  },
  "language_info": {
   "codemirror_mode": {
    "name": "ipython",
    "version": 3
   },
   "file_extension": ".py",
   "mimetype": "text/x-python",
   "name": "python",
   "nbconvert_exporter": "python",
   "pygments_lexer": "ipython3",
   "version": "3.8.5"
  }
 },
 "nbformat": 4,
 "nbformat_minor": 4
}
