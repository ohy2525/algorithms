{
 "cells": [
  {
   "cell_type": "markdown",
   "metadata": {},
   "source": [
    "https://softeer.ai/practice/7594"
   ]
  },
  {
   "cell_type": "code",
   "execution_count": 1,
   "metadata": {},
   "outputs": [
    {
     "name": "stdout",
     "output_type": "stream",
     "text": [
      "2\n",
      "1 2\n",
      "3 4\n",
      "10\n",
      "10\n"
     ]
    }
   ],
   "source": [
    "n = int(input())\n",
    "trees = []\n",
    "\n",
    "for _ in range(n):\n",
    "    trees.append(list(map(int, input().split())))\n",
    "\n",
    "result = 0\n",
    "if n == 2:\n",
    "    for t in trees:\n",
    "        result += sum(t)\n",
    "    print(result)\n",
    "    exit(0)\n",
    "    \n",
    "visited = [[False] * n for _ in range(n)]\n",
    "\n",
    "dx = [-1, 1, 0, 0]\n",
    "dy = [0, 0, -1, 1]\n",
    "\n",
    "def dfs(x, y, depth, s):\n",
    "    global result\n",
    "    visited[x][y] = True\n",
    "    for d in range(4):\n",
    "        nx = x + dx[d]\n",
    "        ny = y + dy[d]\n",
    "    \n",
    "        if 0 <= nx < n and 0 <= ny < n and not visited[nx][ny]:\n",
    "            visited[nx][ny] = True\n",
    "            ns = s + trees[x][y] + trees[nx][ny]\n",
    "            if depth == 4:\n",
    "                result = max(result, ns)\n",
    "                visited[nx][ny] = False\n",
    "                return\n",
    "                \n",
    "            for i in range(n):\n",
    "                for j in range(n):\n",
    "                    if not visited[i][j]:\n",
    "                        dfs(i, j, depth + 1, ns)\n",
    "                        visited[i][j] = False\n",
    "            visited[nx][ny] = False\n",
    "\n",
    "for i in range(n):\n",
    "    for j in range(n):\n",
    "        dfs(i, j, 1, 0)\n",
    "        visited[i][j] = False\n",
    "\n",
    "print(result)\n",
    "    "
   ]
  }
 ],
 "metadata": {
  "kernelspec": {
   "display_name": "Python 3",
   "language": "python",
   "name": "python3"
  },
  "language_info": {
   "codemirror_mode": {
    "name": "ipython",
    "version": 3
   },
   "file_extension": ".py",
   "mimetype": "text/x-python",
   "name": "python",
   "nbconvert_exporter": "python",
   "pygments_lexer": "ipython3",
   "version": "3.8.5"
  }
 },
 "nbformat": 4,
 "nbformat_minor": 4
}
