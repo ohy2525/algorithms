{
 "cells": [
  {
   "cell_type": "markdown",
   "id": "23d1842e-9a80-4980-92f6-00bebb3b1bb9",
   "metadata": {},
   "source": [
    "https://softeer.ai/practice/7367"
   ]
  },
  {
   "cell_type": "code",
   "execution_count": 12,
   "id": "b4cc62e1-325c-44f4-9e13-edcc507fb283",
   "metadata": {},
   "outputs": [
    {
     "name": "stdin",
     "output_type": "stream",
     "text": [
      " 3\n",
      " -10 25 -10\n"
     ]
    },
    {
     "name": "stdout",
     "output_type": "stream",
     "text": [
      "-20\n"
     ]
    }
   ],
   "source": [
    "import sys\n",
    "\n",
    "n = int(input())\n",
    "arr = list(map(int, input().split()))\n",
    "\n",
    "leftDp = [0] * n\n",
    "currentSum = arr[0]\n",
    "leftDp[0] = currentSum\n",
    "for i in range(1, n):\n",
    "    currentSum = max(currentSum + arr[i], arr[i])\n",
    "    leftDp[i] = max(currentSum, leftDp[i - 1])\n",
    "\n",
    "rightDp = [0] * n\n",
    "currentSum = arr[-1]\n",
    "rightDp[-1] = currentSum\n",
    "for i in range(n - 2, -1, -1):\n",
    "    currentSum = max(currentSum + arr[i], arr[i])\n",
    "    rightDp[i] = max(currentSum, rightDp[i + 1])\n",
    "\n",
    "answer = -sys.maxsize\n",
    "for i in range(1, n - 1):\n",
    "    answer = max(leftDp[i - 1] + rightDp[i + 1], answer)\n",
    "\n",
    "print(answer)"
   ]
  }
 ],
 "metadata": {
  "kernelspec": {
   "display_name": "Python 3 (ipykernel)",
   "language": "python",
   "name": "python3"
  },
  "language_info": {
   "codemirror_mode": {
    "name": "ipython",
    "version": 3
   },
   "file_extension": ".py",
   "mimetype": "text/x-python",
   "name": "python",
   "nbconvert_exporter": "python",
   "pygments_lexer": "ipython3",
   "version": "3.11.7"
  }
 },
 "nbformat": 4,
 "nbformat_minor": 5
}
