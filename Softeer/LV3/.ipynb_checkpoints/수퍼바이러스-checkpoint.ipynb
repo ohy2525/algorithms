{
 "cells": [
  {
   "cell_type": "markdown",
   "metadata": {},
   "source": [
    "https://softeer.ai/practice/6292"
   ]
  },
  {
   "cell_type": "code",
   "execution_count": 1,
   "metadata": {},
   "outputs": [
    {
     "name": "stdout",
     "output_type": "stream",
     "text": [
      "1 2 1\n",
      "1024\n"
     ]
    }
   ],
   "source": [
    "import sys\n",
    "\n",
    "def recursive(x, y):\n",
    "    if y == 1:\n",
    "        return x\n",
    "\n",
    "    elif y % 2 == 0:\n",
    "        tmp = recursive(x, y / 2)\n",
    "        return tmp * tmp % 1000000007\n",
    "\n",
    "    else:\n",
    "        tmp = recursive(x, (y - 1) / 2)\n",
    "        return tmp * tmp * x % 1000000007\n",
    "\n",
    "#input = sys.stdin.readline\n",
    "k, p, n = map(int, input().split())\n",
    "n = 10 * n\n",
    "\n",
    "print(k * recursive(p, n) % 1000000007)"
   ]
  }
 ],
 "metadata": {
  "kernelspec": {
   "display_name": "Python 3",
   "language": "python",
   "name": "python3"
  },
  "language_info": {
   "codemirror_mode": {
    "name": "ipython",
    "version": 3
   },
   "file_extension": ".py",
   "mimetype": "text/x-python",
   "name": "python",
   "nbconvert_exporter": "python",
   "pygments_lexer": "ipython3",
   "version": "3.8.5"
  }
 },
 "nbformat": 4,
 "nbformat_minor": 4
}
