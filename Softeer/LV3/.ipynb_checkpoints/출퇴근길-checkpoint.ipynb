{
 "cells": [
  {
   "cell_type": "code",
   "execution_count": null,
   "metadata": {},
   "outputs": [],
   "source": []
  },
  {
   "cell_type": "code",
   "execution_count": null,
   "metadata": {},
   "outputs": [],
   "source": [
    "import sys\n",
    "\n",
    "sys.setrecursionlimit(10**6)\n",
    "\n",
    "n, m = map(int, input().split())\n",
    "adj = [[] for _ in range(n + 1)]\n",
    "adjR = [[] for _ in range(n + 1)]\n",
    "for _ in range(m):\n",
    "    x, y = map(int, input().split())\n",
    "    adj[x].append(y)\n",
    "    adjR[y].append(x)\n",
    "    \n",
    "s, t = map(int, input().split())\n",
    "\n",
    "def dfs(now, adj, visited):\n",
    "    if visited[now]:\n",
    "        return\n",
    "    visited[now] = True\n",
    "    for n in adj[now]:\n",
    "        dfs(n, adj, visited)\n",
    "    return\n",
    "\n",
    "fromS = [False] * (n + 1)\n",
    "fromS[t] = True\n",
    "dfs(s, adj, fromS)\n",
    "\n",
    "fromT = [False] * (n + 1)\n",
    "fromT[s] = True\n",
    "dfs(t, adj,fromT)\n",
    "\n",
    "toS = [False] * (n + 1)\n",
    "dfs(s, adjR, toS)\n",
    "\n",
    "toT = [False] * (n + 1)\n",
    "dfs(t, adjR, toT)\n",
    "\n",
    "count = 0\n",
    "for i in range(1, n + 1):\n",
    "    if fromS[i] and fromT[i] and toS[i] and toT[i]:\n",
    "        count += 1\n",
    "        \n",
    "print(count - 2)"
   ]
  }
 ],
 "metadata": {
  "kernelspec": {
   "display_name": "Python 3",
   "language": "python",
   "name": "python3"
  },
  "language_info": {
   "codemirror_mode": {
    "name": "ipython",
    "version": 3
   },
   "file_extension": ".py",
   "mimetype": "text/x-python",
   "name": "python",
   "nbconvert_exporter": "python",
   "pygments_lexer": "ipython3",
   "version": "3.8.5"
  }
 },
 "nbformat": 4,
 "nbformat_minor": 4
}
