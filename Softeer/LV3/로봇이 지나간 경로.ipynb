{
 "cells": [
  {
   "cell_type": "markdown",
   "id": "432119aa-8f66-4a3c-9b41-1760025291fa",
   "metadata": {},
   "source": [
    "https://softeer.ai/practice/6275"
   ]
  },
  {
   "cell_type": "code",
   "execution_count": 1,
   "id": "cf041d9f-3030-4c65-a681-7e38736ac1d9",
   "metadata": {},
   "outputs": [
    {
     "name": "stdin",
     "output_type": "stream",
     "text": [
      " 5 8\n",
      " #######.\n",
      " ........\n",
      " ........\n",
      " ........\n",
      " ........\n"
     ]
    },
    {
     "name": "stdout",
     "output_type": "stream",
     "text": [
      "1 1\n",
      ">\n",
      "AAA"
     ]
    },
    {
     "ename": "SystemExit",
     "evalue": "",
     "output_type": "error",
     "traceback": [
      "An exception has occurred, use %tb to see the full traceback.\n",
      "\u001b[1;31mSystemExit\u001b[0m\n"
     ]
    },
    {
     "name": "stderr",
     "output_type": "stream",
     "text": [
      "C:\\Users\\dhgod\\anaconda3\\Lib\\site-packages\\IPython\\core\\interactiveshell.py:3561: UserWarning: To exit: use 'exit', 'quit', or Ctrl-D.\n",
      "  warn(\"To exit: use 'exit', 'quit', or Ctrl-D.\", stacklevel=1)\n"
     ]
    }
   ],
   "source": [
    "import sys\n",
    "from collections import deque\n",
    "\n",
    "MAX_H, MAX_W = 25, 25\n",
    "H, W = 0, 0\n",
    "dx = [-1, 0, 1, 0]\n",
    "dy = [0, 1, 0, -1]\n",
    "directions = ['^', '>', 'v', '<']\n",
    "maps = [[0 for _ in range(MAX_W)] for _ in range(MAX_H)]\n",
    "visited = [[False] * MAX_W for _ in range(MAX_H)]\n",
    "ans = []\n",
    "\n",
    "def check(x, y):\n",
    "    cnt = 0\n",
    "\n",
    "    for i in range(4):\n",
    "        nx = x + dx[i]\n",
    "        ny = y + dy[i]\n",
    "\n",
    "        if 0 <= nx < H and 0 <= ny < W and maps[nx][ny] == '#':\n",
    "            cnt += 1\n",
    "\n",
    "    if cnt > 1:\n",
    "        return False\n",
    "    return True\n",
    "\n",
    "def bfs(i, j):\n",
    "    path = deque([])\n",
    "    q = deque([[i, j]])\n",
    "    visited[i][j] = True\n",
    "\n",
    "    while q:\n",
    "        x, y = q.popleft()\n",
    "\n",
    "        for d in range(4):\n",
    "            nx = x + dx[d]\n",
    "            ny = y + dy[d]\n",
    "            direction = directions[d]\n",
    "\n",
    "            if 0 <= nx < H and 0 <= ny < W:\n",
    "                if maps[nx][ny] == '#' and visited[nx][ny] == False:\n",
    "                    visited[nx][ny] = True\n",
    "                    path.append(direction)\n",
    "                    q.append([nx, ny])\n",
    "\n",
    "    return path\n",
    "        \n",
    "def main():\n",
    "    global H, W\n",
    "    H, W = map(int, input().split())\n",
    "    for i in range(H):\n",
    "        maps[i][0:] = list(input().rstrip())\n",
    "\n",
    "    for row in range(H):\n",
    "        for col in range(W):\n",
    "            if maps[row][col] == '#' and check(row, col):\n",
    "                path = bfs(row, col)\n",
    "                print(row + 1, col + 1)\n",
    "                print(path[0])\n",
    "\n",
    "                current = path.popleft()\n",
    "                cnt = 1\n",
    "                for next in path:\n",
    "                    if current == next:\n",
    "                        cnt += 1\n",
    "                        current = next\n",
    "\n",
    "                        if cnt % 2 == 0:\n",
    "                            ans.append('A')\n",
    "                            cnt = 0\n",
    "                    else:\n",
    "                        if directions[directions.index(current) - 1] == next:\n",
    "                            ans.append('L')\n",
    "                        else:\n",
    "                            ans.append('R')\n",
    "\n",
    "                        current = next\n",
    "                        cnt = 1\n",
    "\n",
    "                for i in ans:\n",
    "                    print(i, end = \"\")\n",
    "                    \n",
    "                sys.exit()\n",
    "                \n",
    "if __name__ == \"__main__\":\n",
    "    main()"
   ]
  }
 ],
 "metadata": {
  "kernelspec": {
   "display_name": "Python 3 (ipykernel)",
   "language": "python",
   "name": "python3"
  },
  "language_info": {
   "codemirror_mode": {
    "name": "ipython",
    "version": 3
   },
   "file_extension": ".py",
   "mimetype": "text/x-python",
   "name": "python",
   "nbconvert_exporter": "python",
   "pygments_lexer": "ipython3",
   "version": "3.11.7"
  }
 },
 "nbformat": 4,
 "nbformat_minor": 5
}
