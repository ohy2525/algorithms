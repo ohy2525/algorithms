{
 "cells": [
  {
   "cell_type": "markdown",
   "metadata": {},
   "source": [
    "https://school.programmers.co.kr/learn/courses/30/lessons/172928"
   ]
  },
  {
   "cell_type": "code",
   "execution_count": 1,
   "metadata": {},
   "outputs": [],
   "source": [
    "def solution(park, routes):\n",
    "    direction = {}\n",
    "    direction['E'] = [0, 1]\n",
    "    direction['W'] = [0, -1]\n",
    "    direction['N'] = [-1, 0]\n",
    "    direction['S'] = [1, 0]\n",
    "\n",
    "    sx = 0\n",
    "    sy = 0\n",
    "    for i in range(len(park)):\n",
    "        for j in range(len(park[0])):\n",
    "            if park[i][j] == 'S':\n",
    "                sx = i\n",
    "                sy = j\n",
    "\n",
    "    for r in routes:\n",
    "        d, w = r.split()\n",
    "        nx = sx + direction[d][0] * int(w)\n",
    "        ny = sy + direction[d][1] * int(w)\n",
    "        if nx < 0 or nx >= len(park) or ny < 0 or ny >= len(park[nx]):\n",
    "            continue\n",
    "        flag = False\n",
    "        if d == 'N':\n",
    "            for i in range(nx, sx + 1):\n",
    "                if park[i][ny] == \"X\":\n",
    "                    flag = True\n",
    "                    continue\n",
    "        elif d == 'S':\n",
    "            for i in range(sx, nx + 1):\n",
    "                if park[i][ny] == 'X':\n",
    "                    flag = True\n",
    "                    continue\n",
    "        elif d == 'W':\n",
    "            for i in range(ny, sy + 1):\n",
    "                if park[nx][i] == 'X':\n",
    "                    flag = True\n",
    "                    continue\n",
    "        else:\n",
    "            for i in range(sy, ny + 1):\n",
    "                if park[nx][i] == 'X':\n",
    "                    flag = True\n",
    "                    continue\n",
    "        if not flag:    \n",
    "            sx = nx\n",
    "            sy = ny\n",
    "\n",
    "    result = [sx, sy]\n",
    "    return result"
   ]
  }
 ],
 "metadata": {
  "kernelspec": {
   "display_name": "Python 3",
   "language": "python",
   "name": "python3"
  },
  "language_info": {
   "codemirror_mode": {
    "name": "ipython",
    "version": 3
   },
   "file_extension": ".py",
   "mimetype": "text/x-python",
   "name": "python",
   "nbconvert_exporter": "python",
   "pygments_lexer": "ipython3",
   "version": "3.8.5"
  }
 },
 "nbformat": 4,
 "nbformat_minor": 4
}
