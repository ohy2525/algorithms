{
 "cells": [
  {
   "cell_type": "markdown",
   "id": "cd472c14-5a71-4620-a61a-bed2b013ab3d",
   "metadata": {},
   "source": [
    "https://school.programmers.co.kr/learn/courses/30/lessons/42579?language=python3"
   ]
  },
  {
   "cell_type": "code",
   "execution_count": 1,
   "id": "a3d72399-e7c1-493a-acb6-05f79c8b0ba3",
   "metadata": {},
   "outputs": [],
   "source": [
    "from collections import defaultdict\n",
    "import heapq\n",
    "\n",
    "def solution(genres, plays):\n",
    "    answer = []\n",
    "    genre_dic = defaultdict(int)\n",
    "    plays_dic = defaultdict(list)\n",
    "    \n",
    "    for idx in range(len(plays)):\n",
    "        genre_dic[genres[idx]] += plays[idx]\n",
    "        heapq.heappush(plays_dic[genres[idx]], (-plays[idx], idx))\n",
    "    \n",
    "    rank = []\n",
    "    for genre in genre_dic:\n",
    "        heapq.heappush(rank, (-genre_dic[genre], genre))\n",
    "    \n",
    "    while rank:    \n",
    "        g = heapq.heappop(rank)[1]\n",
    "        tmp = 0\n",
    "        while tmp < 2 and plays_dic[g]:\n",
    "            answer.append(heapq.heappop(plays_dic[g])[1])\n",
    "            tmp += 1\n",
    "    \n",
    "    return answer\n",
    "    "
   ]
  }
 ],
 "metadata": {
  "kernelspec": {
   "display_name": "Python 3 (ipykernel)",
   "language": "python",
   "name": "python3"
  },
  "language_info": {
   "codemirror_mode": {
    "name": "ipython",
    "version": 3
   },
   "file_extension": ".py",
   "mimetype": "text/x-python",
   "name": "python",
   "nbconvert_exporter": "python",
   "pygments_lexer": "ipython3",
   "version": "3.11.7"
  }
 },
 "nbformat": 4,
 "nbformat_minor": 5
}
