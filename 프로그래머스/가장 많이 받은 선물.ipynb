{
 "cells": [
  {
   "cell_type": "markdown",
   "metadata": {},
   "source": [
    "https://school.programmers.co.kr/learn/courses/30/lessons/258712"
   ]
  },
  {
   "cell_type": "code",
   "execution_count": 1,
   "metadata": {},
   "outputs": [],
   "source": [
    "def solution(friends, gifts):\n",
    "    answer = 0\n",
    "    history = [[0 for _ in range(len(friends) + 3)] for _ in range(len(friends))]\n",
    "    for gift in gifts:\n",
    "        a, b = gift.split()\n",
    "        history[friends.index(a)][friends.index(b)] += 1\n",
    "        history[friends.index(a)][len(friends) + 1] += 1\n",
    "        history[friends.index(b)][len(friends) + 2] += 1\n",
    "        \n",
    "    for h in history:\n",
    "        h[-3] = h[-2] - h[-1]\n",
    "    \n",
    "    for i in range(len(friends)):\n",
    "        tmp = 0\n",
    "        for j in range(len(friends)):\n",
    "            if i == j:\n",
    "                continue\n",
    "            if history[i][j] != 0 or history[j][i] != 0:\n",
    "                if history[i][j] > history[j][i]:\n",
    "                    tmp += 1\n",
    "                elif history[i][j] == history[j][i]:\n",
    "                    if history[i][len(friends)] > history[j][len(friends)]:\n",
    "                        tmp += 1\n",
    "\n",
    "            else:\n",
    "                if history[i][len(friends)] > history[j][len(friends)]:\n",
    "                    tmp += 1\n",
    "\n",
    "        answer = max(tmp, answer)\n",
    "        \n",
    "    return answer"
   ]
  },
  {
   "cell_type": "code",
   "execution_count": 2,
   "metadata": {},
   "outputs": [
    {
     "data": {
      "text/plain": [
       "2"
      ]
     },
     "execution_count": 2,
     "metadata": {},
     "output_type": "execute_result"
    }
   ],
   "source": [
    "friends = [\"muzi\", \"ryan\", \"frodo\", \"neo\"]\n",
    "gifts = [\"muzi frodo\", \"muzi frodo\", \"ryan muzi\", \"ryan muzi\", \"ryan muzi\", \"frodo muzi\", \"frodo ryan\", \"neo muzi\"]\n",
    "solution(friends, gifts)"
   ]
  }
 ],
 "metadata": {
  "kernelspec": {
   "display_name": "Python 3",
   "language": "python",
   "name": "python3"
  },
  "language_info": {
   "codemirror_mode": {
    "name": "ipython",
    "version": 3
   },
   "file_extension": ".py",
   "mimetype": "text/x-python",
   "name": "python",
   "nbconvert_exporter": "python",
   "pygments_lexer": "ipython3",
   "version": "3.8.5"
  }
 },
 "nbformat": 4,
 "nbformat_minor": 4
}
