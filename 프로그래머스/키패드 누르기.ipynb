{
 "cells": [
  {
   "cell_type": "markdown",
   "metadata": {},
   "source": [
    "https://school.programmers.co.kr/learn/courses/30/lessons/67256"
   ]
  },
  {
   "cell_type": "code",
   "execution_count": 1,
   "metadata": {},
   "outputs": [],
   "source": [
    "def solution(numbers, hand):\n",
    "    answer = ''\n",
    "    pos = [[3, 1], [0, 0], [0, 1], [0, 2], [1, 0], [1, 1], [1, 2], [2, 0], [2, 1], [2, 2]]\n",
    "    ln = set([1, 4, 7])\n",
    "    rn = set([3, 6, 9])\n",
    "\n",
    "    l = [3, 0]\n",
    "    r = [3, 2]\n",
    "    for n in numbers:\n",
    "        if n in ln:\n",
    "            answer += \"L\"\n",
    "            l = pos[n]\n",
    "            continue\n",
    "        if n in rn:\n",
    "            answer += \"R\"\n",
    "            r = pos[n]\n",
    "            continue\n",
    "        lm = abs(pos[n][0] - l[0]) + abs(pos[n][1] - l[1])\n",
    "        rm = abs(pos[n][0] - r[0]) + abs(pos[n][1] - r[1])\n",
    "        if lm < rm:\n",
    "            l = pos[n]\n",
    "            answer += \"L\"\n",
    "        elif rm < lm:\n",
    "            r = pos[n]\n",
    "            answer += \"R\"\n",
    "        else:\n",
    "            if hand == \"right\":\n",
    "                r = pos[n]\n",
    "                answer += \"R\"\n",
    "            else:\n",
    "                l = pos[n]\n",
    "                answer += \"L\"\n",
    "    return answer"
   ]
  }
 ],
 "metadata": {
  "kernelspec": {
   "display_name": "Python 3",
   "language": "python",
   "name": "python3"
  },
  "language_info": {
   "codemirror_mode": {
    "name": "ipython",
    "version": 3
   },
   "file_extension": ".py",
   "mimetype": "text/x-python",
   "name": "python",
   "nbconvert_exporter": "python",
   "pygments_lexer": "ipython3",
   "version": "3.8.5"
  }
 },
 "nbformat": 4,
 "nbformat_minor": 4
}
