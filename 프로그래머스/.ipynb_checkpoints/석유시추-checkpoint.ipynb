{
 "cells": [
  {
   "cell_type": "markdown",
   "metadata": {},
   "source": [
    "https://school.programmers.co.kr/learn/courses/30/lessons/250136"
   ]
  },
  {
   "cell_type": "code",
   "execution_count": 1,
   "metadata": {},
   "outputs": [],
   "source": [
    "from collections import deque\n",
    "\n",
    "def solution(land):\n",
    "    answer = 0\n",
    "    n = len(land)\n",
    "    m = len(land[0])\n",
    "    dx = [0,0,1,-1]\n",
    "    dy = [1,-1,0,0]\n",
    "    result = [0 for i in range(m+1)]\n",
    "    visited = [[0 for i in range(m)] for j in range(n)]\n",
    "    def bfs(a, b):\n",
    "        count = 0\n",
    "        visited[a][b] = 1\n",
    "        q = deque()\n",
    "        q.append((a,b))\n",
    "        min_y, max_y = b, b\n",
    "        while q:\n",
    "            x,y = q.popleft()\n",
    "            min_y = min(min_y, y)\n",
    "            max_y = max(max_y, y)\n",
    "            count += 1\n",
    "            for i in range(4):\n",
    "                nx = x + dx[i]\n",
    "                ny = y + dy[i]\n",
    "                if nx < 0 or ny < 0 or nx >= n or ny >= m:\n",
    "                    continue\n",
    "                if visited[nx][ny] == 0 and land[nx][y] == 1:\n",
    "                    visited[nx][ny] = 1\n",
    "                    q.append((nx,ny))\n",
    "        \n",
    "        for i in range(min_y, max_y+1):\n",
    "            result[i] += count\n",
    "    \n",
    "    for i in range(n):\n",
    "        for j in range(m):\n",
    "            if visited[i][j] == 0 and land[i][j] == 1:\n",
    "                bfs(i,j)\n",
    "    answer = max(result)\n",
    "    \n",
    "    return answer"
   ]
  }
 ],
 "metadata": {
  "kernelspec": {
   "display_name": "Python 3",
   "language": "python",
   "name": "python3"
  },
  "language_info": {
   "codemirror_mode": {
    "name": "ipython",
    "version": 3
   },
   "file_extension": ".py",
   "mimetype": "text/x-python",
   "name": "python",
   "nbconvert_exporter": "python",
   "pygments_lexer": "ipython3",
   "version": "3.8.5"
  }
 },
 "nbformat": 4,
 "nbformat_minor": 4
}
