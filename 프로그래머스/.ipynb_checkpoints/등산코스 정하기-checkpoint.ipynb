{
 "cells": [
  {
   "cell_type": "markdown",
   "metadata": {},
   "source": [
    "https://school.programmers.co.kr/learn/courses/30/lessons/118669?language=python3"
   ]
  },
  {
   "cell_type": "code",
   "execution_count": 3,
   "metadata": {},
   "outputs": [],
   "source": [
    "import heapq\n",
    "\n",
    "def solution(n, paths, gates, summits):\n",
    "    graph = [[] for _ in range(n + 1)]\n",
    "    \n",
    "    for i, j, k in paths:\n",
    "        graph[i].append([j, k])\n",
    "        graph[j].append([i, k])\n",
    "        \n",
    "    distance = [10000001] * (n + 1)\n",
    "    q = []\n",
    "    for g in gates:\n",
    "        distance[g] = 0\n",
    "        heapq.heappush(q, [0, g])\n",
    "        \n",
    "    while q:\n",
    "        d, i = heapq.heappop(q)\n",
    "        \n",
    "        if distance[i] < d or i in summits:\n",
    "            continue\n",
    "            \n",
    "        for path, dis in graph[i]:\n",
    "            dis = max(distance[i], dis)\n",
    "            if distance[path] > dis:\n",
    "                distance[path] = dis\n",
    "                heapq.heappush(q, [dis, path])\n",
    "                \n",
    "    result = [-1, 10000001]\n",
    "    for s in sorted(summits):\n",
    "        if distance[s] < result[1]:\n",
    "            result[0] = s\n",
    "            result[1] = distance[s]\n",
    "            \n",
    "    return result"
   ]
  }
 ],
 "metadata": {
  "kernelspec": {
   "display_name": "Python 3",
   "language": "python",
   "name": "python3"
  },
  "language_info": {
   "codemirror_mode": {
    "name": "ipython",
    "version": 3
   },
   "file_extension": ".py",
   "mimetype": "text/x-python",
   "name": "python",
   "nbconvert_exporter": "python",
   "pygments_lexer": "ipython3",
   "version": "3.8.5"
  }
 },
 "nbformat": 4,
 "nbformat_minor": 4
}
