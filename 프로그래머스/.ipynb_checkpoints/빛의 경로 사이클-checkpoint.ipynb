{
 "cells": [
  {
   "cell_type": "markdown",
   "metadata": {},
   "source": [
    "https://school.programmers.co.kr/learn/courses/30/lessons/86052"
   ]
  },
  {
   "cell_type": "code",
   "execution_count": 1,
   "metadata": {},
   "outputs": [],
   "source": [
    "dx = [0, 1, 0, -1]\n",
    "dy = [1, 0, -1, 0]\n",
    "def solution(grid):\n",
    "\n",
    "    answer = []\n",
    "    row = len(grid)\n",
    "    col = len(grid[0])\n",
    "    visited = [[[False] * 4 for _ in range(col)]for _ in range(row)]\n",
    "    \n",
    "    for x in range(row):\n",
    "        for y in range(col):\n",
    "            for d in range(4):\n",
    "                if visited[x][y][d]:\n",
    "                    continue\n",
    "                cnt = 0\n",
    "                while not visited[x][y][d]:\n",
    "                    visited[x][y][d] = True\n",
    "                    if grid[x][y] == \"S\":\n",
    "                        pass\n",
    "                    elif grid[x][y] == \"L\":\n",
    "                        d = (d - 1) % 4\n",
    "                    else:\n",
    "                        d = (d + 1) % 4\n",
    "                    \n",
    "                    x = (x + dx[d]) % row\n",
    "                    y = (y + dy[d]) % col\n",
    "                    \n",
    "                    cnt += 1\n",
    "                    \n",
    "                answer.append(cnt)\n",
    "                \n",
    "    return sorted(answer)"
   ]
  },
  {
   "cell_type": "code",
   "execution_count": 2,
   "metadata": {},
   "outputs": [
    {
     "data": {
      "text/plain": [
       "[16]"
      ]
     },
     "execution_count": 2,
     "metadata": {},
     "output_type": "execute_result"
    }
   ],
   "source": [
    "solution([\"SL\",\"LR\"])"
   ]
  }
 ],
 "metadata": {
  "kernelspec": {
   "display_name": "Python 3",
   "language": "python",
   "name": "python3"
  },
  "language_info": {
   "codemirror_mode": {
    "name": "ipython",
    "version": 3
   },
   "file_extension": ".py",
   "mimetype": "text/x-python",
   "name": "python",
   "nbconvert_exporter": "python",
   "pygments_lexer": "ipython3",
   "version": "3.8.5"
  }
 },
 "nbformat": 4,
 "nbformat_minor": 4
}
