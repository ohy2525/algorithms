{
 "cells": [
  {
   "cell_type": "markdown",
   "metadata": {},
   "source": [
    "https://school.programmers.co.kr/learn/courses/30/lessons/176962"
   ]
  },
  {
   "cell_type": "code",
   "execution_count": 1,
   "metadata": {},
   "outputs": [],
   "source": [
    "from collections import deque\n",
    "\n",
    "def convert_time(s) :\n",
    "    h, m = map(int, s.split(':'))\n",
    "    return h*60 + m\n",
    "\n",
    "def solution(plans):\n",
    "    answer = []\n",
    "    \n",
    "    plans = [ (name, convert_time(start), int(playtime)) for name, start, playtime in plans]\n",
    "    plans.sort(key = lambda x : x[1])\n",
    "    \n",
    "    assign_q = deque()\n",
    "    left_time = 0\n",
    "    \n",
    "    for i in range(len(plans)) :\n",
    "        name, start, playtime = plans[i]\n",
    "        \n",
    "        while assign_q :\n",
    "            _name, _playtime = assign_q.pop()\n",
    "            if left_time >= _playtime :\n",
    "                left_time -= _playtime\n",
    "                answer.append(_name)\n",
    "            else :\n",
    "                assign_q.append((_name, _playtime - left_time))\n",
    "                break\n",
    "                \n",
    "        assign_q.append((name, playtime))\n",
    "        \n",
    "        if i < len(plans)-1 :\n",
    "            next_start = plans[i+1][1]\n",
    "            left_time = next_start - start\n",
    "        \n",
    "    while assign_q :\n",
    "        _name, _ = assign_q.pop()\n",
    "        answer.append(_name)\n",
    "        \n",
    "    \n",
    "    return answer\n"
   ]
  },
  {
   "cell_type": "code",
   "execution_count": 2,
   "metadata": {},
   "outputs": [],
   "source": [
    "plans = [[\"korean\", \"11:40\", \"30\"], [\"english\", \"12:10\", \"20\"], [\"math\", \"12:30\", \"40\"]]"
   ]
  },
  {
   "cell_type": "code",
   "execution_count": 3,
   "metadata": {},
   "outputs": [
    {
     "data": {
      "text/plain": [
       "['korean', 'english', 'math']"
      ]
     },
     "execution_count": 3,
     "metadata": {},
     "output_type": "execute_result"
    }
   ],
   "source": [
    "solution(plans)"
   ]
  }
 ],
 "metadata": {
  "kernelspec": {
   "display_name": "Python 3",
   "language": "python",
   "name": "python3"
  },
  "language_info": {
   "codemirror_mode": {
    "name": "ipython",
    "version": 3
   },
   "file_extension": ".py",
   "mimetype": "text/x-python",
   "name": "python",
   "nbconvert_exporter": "python",
   "pygments_lexer": "ipython3",
   "version": "3.8.5"
  }
 },
 "nbformat": 4,
 "nbformat_minor": 4
}
