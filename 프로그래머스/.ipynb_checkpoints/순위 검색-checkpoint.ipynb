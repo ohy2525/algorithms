{
 "cells": [
  {
   "cell_type": "markdown",
   "metadata": {},
   "source": [
    "https://school.programmers.co.kr/learn/courses/30/lessons/72412?language=python3"
   ]
  },
  {
   "cell_type": "code",
   "execution_count": 20,
   "metadata": {},
   "outputs": [],
   "source": [
    "def solution(info, query):\n",
    "    data = dict()\n",
    "    for a in ['cpp', 'java', 'python', '-']:\n",
    "        for b in ['backend', 'frontend', '-']:\n",
    "            for c in ['junior', 'senior', '-']:\n",
    "                for d in ['chicken', 'pizza', '-']:\n",
    "                    data.setdefault((a, b, c, d), list())\n",
    "                    \n",
    "    for i in info:\n",
    "        i = i.split()\n",
    "        for a in [i[0], '-']:\n",
    "            for b in [i[1], '-']:\n",
    "                for c in [i[2], '-']:\n",
    "                    for d in [i[3], '-']:\n",
    "                        data[(a, b, c, d)].append(int(i[4]))\n",
    "                        \n",
    "    # 점수 오름차순 정렬\n",
    "    for k in data:\n",
    "        data[k].sort()\n",
    "        \n",
    "    answer = list()\n",
    "    \n",
    "    for q in query:\n",
    "        q = q.split()\n",
    "        scores = data[(q[0], q[2], q[4], q[6])]\n",
    "        # 점수 이분탐색\n",
    "        target = int(q[7])\n",
    "        l, r = 0, len(scores)\n",
    "        while l < r:\n",
    "            m = (l + r) // 2\n",
    "            if scores[m] >= target:\n",
    "                r = m\n",
    "            else:\n",
    "                l = m + 1\n",
    "        answer.append(len(scores) - l)\n",
    "        \n",
    "    return answer"
   ]
  }
 ],
 "metadata": {
  "kernelspec": {
   "display_name": "Python 3",
   "language": "python",
   "name": "python3"
  },
  "language_info": {
   "codemirror_mode": {
    "name": "ipython",
    "version": 3
   },
   "file_extension": ".py",
   "mimetype": "text/x-python",
   "name": "python",
   "nbconvert_exporter": "python",
   "pygments_lexer": "ipython3",
   "version": "3.8.5"
  }
 },
 "nbformat": 4,
 "nbformat_minor": 4
}
