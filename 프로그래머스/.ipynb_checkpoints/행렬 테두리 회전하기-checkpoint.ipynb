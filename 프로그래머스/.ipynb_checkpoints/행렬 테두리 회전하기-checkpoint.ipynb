{
 "cells": [
  {
   "cell_type": "markdown",
   "metadata": {},
   "source": [
    "https://school.programmers.co.kr/learn/courses/30/lessons/77485"
   ]
  },
  {
   "cell_type": "code",
   "execution_count": 22,
   "metadata": {},
   "outputs": [],
   "source": [
    "from collections import deque\n",
    "\n",
    "def solution(rows, columns, queries):\n",
    "    graph = [[] for _ in range(rows)]\n",
    "    num = 1\n",
    "    for i in range(rows):\n",
    "        for j in range(columns):\n",
    "            graph[i].append(num)\n",
    "            num += 1\n",
    "            \n",
    "    tmp = deque()\n",
    "    result = []\n",
    "    \n",
    "    for query in queries:\n",
    "        a, b, c, d = query[0] - 1, query[1] - 1, query[2] - 1, query[3] - 1\n",
    "        for n in range(d - b):\n",
    "            tmp.append(graph[a][b + n])\n",
    "        for n in range(c - a):\n",
    "            tmp.append(graph[a + n][d])\n",
    "        for n in range(d - b):\n",
    "            tmp.append(graph[c][d - n])\n",
    "        for n in range(c - a):\n",
    "            tmp.append(graph[c - n][b])\n",
    "        \n",
    "        tmp.rotate(1)\n",
    "        result.append(min(tmp))\n",
    "        \n",
    "        for n in range(d - b):\n",
    "            graph[a][b + n] = tmp[0]\n",
    "            tmp.popleft()\n",
    "        for n in range(c - a):\n",
    "            graph[a + n][d] = tmp[0]\n",
    "            tmp.popleft()\n",
    "        for n in range(d - b):\n",
    "            graph[c][d - n] = tmp[0]\n",
    "            tmp.popleft()\n",
    "        for n in range(c - a):\n",
    "            graph[c - n][b] = tmp[0]\n",
    "            tmp.popleft()\n",
    "    \n",
    "    return result"
   ]
  }
 ],
 "metadata": {
  "kernelspec": {
   "display_name": "Python 3",
   "language": "python",
   "name": "python3"
  },
  "language_info": {
   "codemirror_mode": {
    "name": "ipython",
    "version": 3
   },
   "file_extension": ".py",
   "mimetype": "text/x-python",
   "name": "python",
   "nbconvert_exporter": "python",
   "pygments_lexer": "ipython3",
   "version": "3.8.5"
  }
 },
 "nbformat": 4,
 "nbformat_minor": 4
}
