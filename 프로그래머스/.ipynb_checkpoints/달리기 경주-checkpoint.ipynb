{
 "cells": [
  {
   "cell_type": "markdown",
   "metadata": {},
   "source": [
    "https://school.programmers.co.kr/learn/courses/30/lessons/178871"
   ]
  },
  {
   "cell_type": "code",
   "execution_count": 1,
   "metadata": {},
   "outputs": [],
   "source": [
    "def solution(players, callings):\n",
    "    pla_dic = {key: i for i, key in enumerate(players)}\n",
    "\n",
    "    for p in callings:\n",
    "        c = pla_dic[p]\n",
    "        pla_dic[p] -= 1\n",
    "        pla_dic[players[c-1]] += 1\n",
    "        players[c-1], players[c] = players[c], players[c-1]\n",
    "\n",
    "    return players"
   ]
  }
 ],
 "metadata": {
  "kernelspec": {
   "display_name": "Python 3",
   "language": "python",
   "name": "python3"
  },
  "language_info": {
   "codemirror_mode": {
    "name": "ipython",
    "version": 3
   },
   "file_extension": ".py",
   "mimetype": "text/x-python",
   "name": "python",
   "nbconvert_exporter": "python",
   "pygments_lexer": "ipython3",
   "version": "3.8.5"
  }
 },
 "nbformat": 4,
 "nbformat_minor": 4
}
