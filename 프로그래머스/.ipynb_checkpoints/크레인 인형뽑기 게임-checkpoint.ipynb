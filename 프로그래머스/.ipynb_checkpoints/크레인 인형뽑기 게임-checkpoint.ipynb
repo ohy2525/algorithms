{
 "cells": [
  {
   "cell_type": "markdown",
   "metadata": {},
   "source": [
    "https://school.programmers.co.kr/learn/courses/30/lessons/64061"
   ]
  },
  {
   "cell_type": "code",
   "execution_count": 1,
   "metadata": {},
   "outputs": [],
   "source": [
    "def solution(board, moves):\n",
    "    new_board = [0]\n",
    "    for i in range(len(board)):\n",
    "        tmp = []\n",
    "        for j in range(len(board) - 1, -1, -1):\n",
    "            if board[j][i] != 0:\n",
    "                tmp.append(board[j][i])\n",
    "        new_board.append(tmp)\n",
    "    answer = 0\n",
    "    b = [0]\n",
    "    for m in moves:\n",
    "        if new_board[m]:\n",
    "            v = new_board[m].pop()\n",
    "            if b[-1] == v:\n",
    "                b.pop()\n",
    "                answer += 2\n",
    "            else: b.append(v)\n",
    "            \n",
    "    return answer"
   ]
  }
 ],
 "metadata": {
  "kernelspec": {
   "display_name": "Python 3",
   "language": "python",
   "name": "python3"
  },
  "language_info": {
   "codemirror_mode": {
    "name": "ipython",
    "version": 3
   },
   "file_extension": ".py",
   "mimetype": "text/x-python",
   "name": "python",
   "nbconvert_exporter": "python",
   "pygments_lexer": "ipython3",
   "version": "3.8.5"
  }
 },
 "nbformat": 4,
 "nbformat_minor": 4
}
