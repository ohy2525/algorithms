{
 "cells": [
  {
   "cell_type": "markdown",
   "metadata": {},
   "source": [
    "https://school.programmers.co.kr/learn/courses/30/lessons/258711"
   ]
  },
  {
   "cell_type": "code",
   "execution_count": 1,
   "metadata": {},
   "outputs": [],
   "source": [
    "def solution(edges):\n",
    "    answer = [0, 0, 0, 0]\n",
    "\n",
    "    graph = {}\n",
    "    for a, b in edges:\n",
    "        if not graph.get(a):\n",
    "            graph[a] = [0, 0]\n",
    "        if not graph.get(b):\n",
    "            graph[b] = [0, 0]\n",
    "\n",
    "        graph[a][0] += 1\n",
    "        graph[b][1] += 1\n",
    "\n",
    "    for k, v in graph.items():\n",
    "        if v[0] >= 2 and v[1] == 0:\n",
    "            answer[0] = k\n",
    "        elif v[0] == 0 and v[1] > 0:\n",
    "            answer[2] += 1\n",
    "        elif v[0] >= 2 and v[1] >= 2:\n",
    "            answer[3] += 1\n",
    "\n",
    "    answer[1] = graph[answer[0]][0] - answer[2] - answer[3]\n",
    "\n",
    "    return answer\n"
   ]
  },
  {
   "cell_type": "code",
   "execution_count": 2,
   "metadata": {},
   "outputs": [
    {
     "data": {
      "text/plain": [
       "[4, 0, 1, 2]"
      ]
     },
     "execution_count": 2,
     "metadata": {},
     "output_type": "execute_result"
    }
   ],
   "source": [
    "edges = [[4, 11], [1, 12], [8, 3], [12, 7], [4, 2], [7, 11], [4, 8], [9, 6], [10, 11], [6, 10], [3, 5], [11, 1], [5, 3], [11, 9], [3, 8]]\n",
    "solution(edges)"
   ]
  }
 ],
 "metadata": {
  "kernelspec": {
   "display_name": "Python 3",
   "language": "python",
   "name": "python3"
  },
  "language_info": {
   "codemirror_mode": {
    "name": "ipython",
    "version": 3
   },
   "file_extension": ".py",
   "mimetype": "text/x-python",
   "name": "python",
   "nbconvert_exporter": "python",
   "pygments_lexer": "ipython3",
   "version": "3.8.5"
  }
 },
 "nbformat": 4,
 "nbformat_minor": 4
}
