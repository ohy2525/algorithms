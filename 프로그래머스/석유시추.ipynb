{
 "cells": [
  {
   "cell_type": "markdown",
   "metadata": {},
   "source": [
    "https://school.programmers.co.kr/learn/courses/30/lessons/250136"
   ]
  },
  {
   "cell_type": "code",
   "execution_count": 1,
   "metadata": {},
   "outputs": [],
   "source": [
    "def solution(land):\n",
    "    answer = 0\n",
    "    n, m = len(land), len(land[0])\n",
    "    \n",
    "    dx = [-1, 1, 0, 0]\n",
    "    dy = [0, 0, -1, 1]\n",
    "    \n",
    "    visited = [[False] * m for _ in range(n)]\n",
    "    oil_cnt = [0] * m\n",
    "    for i in range(n):\n",
    "        for j in range(m):\n",
    "            if not visited[i][j] and land[i][j]:\n",
    "                visited[i][j] = True\n",
    "                q = [(i, j)]\n",
    "                col = set()\n",
    "                cnt = 0\n",
    "                \n",
    "                while q:\n",
    "                    x, y = q.pop()\n",
    "                    col.add(y)\n",
    "                    cnt += 1\n",
    "                    for k in range(4):\n",
    "                        nx = x + dx[k]\n",
    "                        ny = y + dy[k]\n",
    "                        \n",
    "                        if 0 <= nx < n and 0 <= ny < m and not visited[nx][ny] and land[nx][ny]:\n",
    "                            visited[nx][ny] = True\n",
    "                            q.append((nx, ny))\n",
    "\n",
    "                for y in col:\n",
    "                    oil_cnt[y] += cnt\n",
    "        \n",
    "    return max(oil_cnt)"
   ]
  }
 ],
 "metadata": {
  "kernelspec": {
   "display_name": "Python 3",
   "language": "python",
   "name": "python3"
  },
  "language_info": {
   "codemirror_mode": {
    "name": "ipython",
    "version": 3
   },
   "file_extension": ".py",
   "mimetype": "text/x-python",
   "name": "python",
   "nbconvert_exporter": "python",
   "pygments_lexer": "ipython3",
   "version": "3.8.5"
  }
 },
 "nbformat": 4,
 "nbformat_minor": 4
}
