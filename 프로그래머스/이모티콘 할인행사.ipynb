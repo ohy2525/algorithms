{
 "cells": [
  {
   "cell_type": "markdown",
   "metadata": {},
   "source": [
    "https://school.programmers.co.kr/learn/courses/30/lessons/150368?language=python3"
   ]
  },
  {
   "cell_type": "code",
   "execution_count": 82,
   "metadata": {},
   "outputs": [],
   "source": [
    "discount = [10, 20, 30, 40]\n",
    "case = []\n",
    "\n",
    "def solution(users, emoticons):\n",
    "    init([], 0, len(emoticons))\n",
    "    answer = [0, 0]\n",
    "    for c in case:\n",
    "        amount = 0\n",
    "        cnt = 0\n",
    "        for user in users:\n",
    "            tmp = 0\n",
    "            for i in range(len(emoticons)):\n",
    "                if c[i] >= user[0]:\n",
    "                    tmp += emoticons[i] * (100 - c[i]) / 100\n",
    "\n",
    "            if tmp >= user[1]:\n",
    "                cnt += 1\n",
    "            else:\n",
    "                amount += tmp\n",
    "\n",
    "        if cnt >= answer[0]:\n",
    "            if cnt == answer[0]:\n",
    "                answer[1] = max(answer[1], amount)\n",
    "            else:\n",
    "                answer[0] = cnt\n",
    "                answer[1] = amount\n",
    "                \n",
    "    return answer\n",
    "    \n",
    "    \n",
    "def init(arr, d, l):\n",
    "    if d == l:\n",
    "        case.append(arr[:])\n",
    "        return\n",
    "    else:\n",
    "        for i in range(4):\n",
    "            arr.append(discount[i])\n",
    "            init(arr, d + 1, l)\n",
    "            arr.pop()"
   ]
  },
  {
   "cell_type": "code",
   "execution_count": 83,
   "metadata": {},
   "outputs": [],
   "source": [
    "users = [[40, 10000], [25, 10000]]\n",
    "emoticons = [7000, 9000]"
   ]
  },
  {
   "cell_type": "code",
   "execution_count": 84,
   "metadata": {},
   "outputs": [
    {
     "data": {
      "text/plain": [
       "[1, 5400.0]"
      ]
     },
     "execution_count": 84,
     "metadata": {},
     "output_type": "execute_result"
    }
   ],
   "source": [
    "solution(users, emoticons)"
   ]
  }
 ],
 "metadata": {
  "kernelspec": {
   "display_name": "Python 3",
   "language": "python",
   "name": "python3"
  },
  "language_info": {
   "codemirror_mode": {
    "name": "ipython",
    "version": 3
   },
   "file_extension": ".py",
   "mimetype": "text/x-python",
   "name": "python",
   "nbconvert_exporter": "python",
   "pygments_lexer": "ipython3",
   "version": "3.8.5"
  }
 },
 "nbformat": 4,
 "nbformat_minor": 4
}
