{
 "cells": [
  {
   "cell_type": "markdown",
   "metadata": {},
   "source": [
    "https://school.programmers.co.kr/learn/courses/30/lessons/178870"
   ]
  },
  {
   "cell_type": "code",
   "execution_count": 1,
   "metadata": {},
   "outputs": [],
   "source": [
    "def solution(sequence, k):\n",
    "    l, r = 0, 0\n",
    "    answer = [0, len(sequence)]\n",
    "    sum_ = sequence[0]\n",
    "    \n",
    "    while True:\n",
    "        if sum_ < k:\n",
    "            r += 1\n",
    "            if r == len(sequence):\n",
    "                break\n",
    "            sum_ += sequence[r]\n",
    "        else:\n",
    "            if sum_ == k:\n",
    "                if r - l < answer[1] - answer[0]:\n",
    "                    answer = [l, r]\n",
    "            sum_ -= sequence[l]\n",
    "            l += 1\n",
    "            \n",
    "    return answer"
   ]
  },
  {
   "cell_type": "code",
   "execution_count": 2,
   "metadata": {},
   "outputs": [
    {
     "data": {
      "text/plain": [
       "[2, 3]"
      ]
     },
     "execution_count": 2,
     "metadata": {},
     "output_type": "execute_result"
    }
   ],
   "source": [
    "sequence = [1, 2, 3, 4, 5]\n",
    "k = 7\n",
    "solution(sequence, k)"
   ]
  }
 ],
 "metadata": {
  "kernelspec": {
   "display_name": "Python 3",
   "language": "python",
   "name": "python3"
  },
  "language_info": {
   "codemirror_mode": {
    "name": "ipython",
    "version": 3
   },
   "file_extension": ".py",
   "mimetype": "text/x-python",
   "name": "python",
   "nbconvert_exporter": "python",
   "pygments_lexer": "ipython3",
   "version": "3.8.5"
  }
 },
 "nbformat": 4,
 "nbformat_minor": 4
}
