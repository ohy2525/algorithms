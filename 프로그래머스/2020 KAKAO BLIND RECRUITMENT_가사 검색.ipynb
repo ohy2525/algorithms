{
 "cells": [
  {
   "cell_type": "markdown",
   "metadata": {},
   "source": [
    "https://school.programmers.co.kr/learn/courses/30/lessons/60060"
   ]
  },
  {
   "cell_type": "code",
   "execution_count": 27,
   "metadata": {},
   "outputs": [],
   "source": [
    "from bisect import bisect_left, bisect_right\n",
    "\n",
    "array = [[] for _ in range(10001)]\n",
    "reverse_array = [[] for _ in range(10001)]\n",
    "\n",
    "def solution(words, queries):\n",
    "    answer = []\n",
    "    \n",
    "    for word in words:\n",
    "        array[len(word)].append(word)\n",
    "        reverse_array[len(word)].append(word[::-1])\n",
    "    \n",
    "    for _ in range(10001):\n",
    "        array[_].sort()\n",
    "        reverse_array[_].sort()\n",
    "    \n",
    "    for query in queries:\n",
    "        if query[0] == '?':\n",
    "            lindex = bisect_left(reverse_array[len(query)], query[::-1].replace('?','a'))\n",
    "            rindex = bisect_right(reverse_array[len(query)], query[::-1].replace('?','z'))\n",
    "        else:\n",
    "            lindex = bisect_left(array[len(query)], query.replace('?','a'))\n",
    "            rindex = bisect_right(array[len(query)], query.replace('?','z'))\n",
    "        answer.append(rindex - lindex)\n",
    "        \n",
    "    return answer"
   ]
  }
 ],
 "metadata": {
  "kernelspec": {
   "display_name": "Python 3",
   "language": "python",
   "name": "python3"
  },
  "language_info": {
   "codemirror_mode": {
    "name": "ipython",
    "version": 3
   },
   "file_extension": ".py",
   "mimetype": "text/x-python",
   "name": "python",
   "nbconvert_exporter": "python",
   "pygments_lexer": "ipython3",
   "version": "3.8.5"
  }
 },
 "nbformat": 4,
 "nbformat_minor": 4
}
