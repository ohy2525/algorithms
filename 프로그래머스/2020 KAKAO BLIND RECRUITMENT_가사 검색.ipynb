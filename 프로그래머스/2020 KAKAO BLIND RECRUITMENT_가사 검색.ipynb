{
 "cells": [
  {
   "cell_type": "markdown",
   "metadata": {},
   "source": [
    "https://school.programmers.co.kr/learn/courses/30/lessons/60060"
   ]
  },
  {
   "cell_type": "code",
   "execution_count": 1,
   "metadata": {},
   "outputs": [],
   "source": [
    "words = [\"frodo\", \"front\", \"frost\", \"frozen\", \"frame\", \"kakao\"]\n",
    "queries = [\"fro??\", \"????o\", \"fr???\", \"fro???\", \"pro?\"]"
   ]
  },
  {
   "cell_type": "code",
   "execution_count": 13,
   "metadata": {},
   "outputs": [
    {
     "name": "stdout",
     "output_type": "stream",
     "text": [
      "일치합니다!\n"
     ]
    }
   ],
   "source": [
    "import re\n",
    "\n",
    "txt = '^fro..'\n",
    "pattern = re.compile(txt)\n",
    "\n",
    "# 테스트 문자열\n",
    "test_string = 'froABR'\n",
    "\n",
    "# 정규표현식과 매치되는지 확인\n",
    "if pattern.match(test_string):\n",
    "    print('일치합니다!')\n",
    "else:\n",
    "    print('일치하지 않습니다.')"
   ]
  },
  {
   "cell_type": "code",
   "execution_count": 25,
   "metadata": {},
   "outputs": [
    {
     "name": "stdout",
     "output_type": "stream",
     "text": [
      "^fro\\w{2}$\n",
      "frodo\n",
      "front\n",
      "frost\n",
      "=================\n",
      "^\\w{4}o$\n",
      "frodo\n",
      "kakao\n",
      "=================\n",
      "^fr\\w{3}$\n",
      "frodo\n",
      "front\n",
      "frost\n",
      "frame\n",
      "=================\n",
      "^fro\\w{3}$\n",
      "frozen\n",
      "=================\n",
      "^pro\\w{1}$\n",
      "=================\n"
     ]
    }
   ],
   "source": [
    "result = []\n",
    "for query in queries:\n",
    "    tmp = 0\n",
    "    for c in query:\n",
    "        if c == '?':\n",
    "            tmp += 1\n",
    "            \n",
    "    if query[0] == '?':\n",
    "        query = query.replace('?', '')\n",
    "        reg = '^' +'\\w{' + str(tmp) + '}' + query + '$'\n",
    "    else:\n",
    "        query = query.replace('?', '')\n",
    "        reg = '^' + query + '\\w{' + str(tmp) + '}' + '$'\n",
    "    \n",
    "    pattern = re.compile(reg)\n",
    "    cnt = 0\n",
    "    for word in words:\n",
    "        if pattern.match(word):\n",
    "            cnt += 1\n",
    "\n",
    "    result.append(cnt)"
   ]
  },
  {
   "cell_type": "code",
   "execution_count": 26,
   "metadata": {},
   "outputs": [
    {
     "data": {
      "text/plain": [
       "[3, 2, 4, 1, 0]"
      ]
     },
     "execution_count": 26,
     "metadata": {},
     "output_type": "execute_result"
    }
   ],
   "source": [
    "result"
   ]
  },
  {
   "cell_type": "code",
   "execution_count": 24,
   "metadata": {},
   "outputs": [
    {
     "name": "stdout",
     "output_type": "stream",
     "text": [
      "일치하지 않습니다.\n"
     ]
    }
   ],
   "source": [
    "txt = '^fro\\w{2}$'  # 두 글자를 나타내는 \\w{2}를 추가\n",
    "pattern = re.compile(txt)\n",
    "\n",
    "# 테스트 문자열\n",
    "test_string = 'froABR'\n",
    "\n",
    "# 정규표현식과 매치되는지 확인\n",
    "if pattern.match(test_string):\n",
    "    print('일치합니다!')\n",
    "else:\n",
    "    print('일치하지 않습니다.')"
   ]
  },
  {
   "cell_type": "code",
   "execution_count": 23,
   "metadata": {},
   "outputs": [
    {
     "name": "stdout",
     "output_type": "stream",
     "text": [
      "일치합니다!\n"
     ]
    }
   ],
   "source": [
    "import re\n",
    "\n",
    "txt = '^fro\\w{2}$'\n",
    "pattern = re.compile(txt)\n",
    "\n",
    "# 테스트 문자열\n",
    "test_string = 'froAB'\n",
    "\n",
    "# 정규표현식과 매치되는지 확인\n",
    "if pattern.match(test_string):\n",
    "    print('일치합니다!')\n",
    "else:\n",
    "    print('일치하지 않습니다.')"
   ]
  },
  {
   "cell_type": "code",
   "execution_count": null,
   "metadata": {},
   "outputs": [],
   "source": []
  }
 ],
 "metadata": {
  "kernelspec": {
   "display_name": "Python 3",
   "language": "python",
   "name": "python3"
  },
  "language_info": {
   "codemirror_mode": {
    "name": "ipython",
    "version": 3
   },
   "file_extension": ".py",
   "mimetype": "text/x-python",
   "name": "python",
   "nbconvert_exporter": "python",
   "pygments_lexer": "ipython3",
   "version": "3.8.5"
  }
 },
 "nbformat": 4,
 "nbformat_minor": 4
}
