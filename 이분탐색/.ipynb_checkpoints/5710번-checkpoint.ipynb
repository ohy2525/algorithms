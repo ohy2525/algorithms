{
 "cells": [
  {
   "cell_type": "markdown",
   "metadata": {},
   "source": [
    "https://www.acmicpc.net/problem/5710"
   ]
  },
  {
   "cell_type": "code",
   "execution_count": 1,
   "metadata": {},
   "outputs": [
    {
     "name": "stdout",
     "output_type": "stream",
     "text": [
      "1100 300\n",
      "350\n",
      "0 0\n"
     ]
    }
   ],
   "source": [
    "def cal_usage(x):\n",
    "    if x <= 200:\n",
    "        return x / 2\n",
    "    if x <= 29900:\n",
    "        return (x - 200) / 3 + 100\n",
    "    if x <= 4979900:\n",
    "        return (x - 29900) / 5 + 10000\n",
    "    return (x - 4979900) / 7 + 1000000\n",
    "    \n",
    "def cal_charge(x):\n",
    "    if x <= 100:\n",
    "        return x * 2\n",
    "    if x <= 10000:\n",
    "        return 100 * 2 + (x - 100) * 3\n",
    "    if x <= 1000000:\n",
    "        return 100 * 2 + (10000 - 100) * 3 + (x - 10000) * 5\n",
    "    return 100 * 2 + (10000 - 100) * 3 + (1000000 - 10000) * 5 + (x - 1000000) * 7\n",
    "\n",
    "\n",
    "while True:\n",
    "    a, b = map(int,input().split())\n",
    "    if a == 0 and b == 0:\n",
    "        break\n",
    "        \n",
    "    l = 0\n",
    "    r = a\n",
    "\n",
    "    while l < r:\n",
    "        mid = (l + r) // 2\n",
    "        x = cal_usage(mid)\n",
    "        y = cal_usage(mid + b)\n",
    "        if cal_charge(x + y) < a:\n",
    "            l = mid + 1\n",
    "        else: \n",
    "            r = mid\n",
    "    print(l)"
   ]
  }
 ],
 "metadata": {
  "kernelspec": {
   "display_name": "Python 3",
   "language": "python",
   "name": "python3"
  },
  "language_info": {
   "codemirror_mode": {
    "name": "ipython",
    "version": 3
   },
   "file_extension": ".py",
   "mimetype": "text/x-python",
   "name": "python",
   "nbconvert_exporter": "python",
   "pygments_lexer": "ipython3",
   "version": "3.8.5"
  }
 },
 "nbformat": 4,
 "nbformat_minor": 4
}
