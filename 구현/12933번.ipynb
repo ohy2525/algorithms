{
 "cells": [
  {
   "cell_type": "markdown",
   "metadata": {},
   "source": [
    "https://www.acmicpc.net/problem/12933"
   ]
  },
  {
   "cell_type": "code",
   "execution_count": null,
   "metadata": {},
   "outputs": [],
   "source": [
    "duck = input()\n",
    "visited = [False] * len(duck)\n",
    "cnt = 0\n",
    "\n",
    "if len(duck) % 5 != 0:\n",
    "    print(-1)\n",
    "    exit()\n",
    "\n",
    "\n",
    "def solve(start):\n",
    "    global cnt\n",
    "    quack = 'quack'\n",
    "    j = 0\n",
    "    first = True\n",
    "    for i in range(start, len(duck)):\n",
    "        if duck[i] == quack[j] and not visited[i]:\n",
    "            visited[i] = True\n",
    "            if duck[i] == 'k':\n",
    "                if first:\n",
    "                    cnt += 1\n",
    "                    first = False\n",
    "                j = 0\n",
    "                continue\n",
    "            j += 1\n",
    "\n",
    "\n",
    "for i in range(len(duck)):\n",
    "    if duck[i] == 'q' and not visited[i]:\n",
    "        solve(i)\n",
    "\n",
    "if not all(visited) or cnt == 0:\n",
    "    print(-1)\n",
    "else:\n",
    "    print(cnt)"
   ]
  }
 ],
 "metadata": {
  "language_info": {
   "name": "python"
  }
 },
 "nbformat": 4,
 "nbformat_minor": 2
}
