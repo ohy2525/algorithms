{
 "cells": [
  {
   "cell_type": "markdown",
   "id": "4804b28d-fc3b-4a71-8f4a-6c8e13da7c7d",
   "metadata": {},
   "source": [
    "https://www.acmicpc.net/problem/20436"
   ]
  },
  {
   "cell_type": "code",
   "execution_count": 1,
   "id": "237f25ac-65a4-45dd-baf0-cb5cf01976dd",
   "metadata": {},
   "outputs": [
    {
     "name": "stdin",
     "output_type": "stream",
     "text": [
      " z o\n",
      " zoac\n"
     ]
    },
    {
     "name": "stdout",
     "output_type": "stream",
     "text": [
      "8\n"
     ]
    }
   ],
   "source": [
    "left, right = input().split()\n",
    "strings = list(input())\n",
    "\n",
    "keyboard = ['qwertyuiop', 'asdfghjkl', 'zxcvbnm']\n",
    "mo = 'yuiophjklbnm'\n",
    "\n",
    "xl, yl, xr, yr = None, None, None, None\n",
    "\n",
    "for i in range(len(keyboard)):\n",
    "    if left in keyboard[i]:\n",
    "        xl = i\n",
    "        yl = keyboard[i].index(left)\n",
    "\n",
    "    if right in keyboard[i]:\n",
    "        xr = i\n",
    "        yr = keyboard[i].index(right)\n",
    "\n",
    "time = 0\n",
    "for string in strings:\n",
    "    time += 1\n",
    "    if string in mo:\n",
    "        for i in range(len(keyboard)):\n",
    "            if string in keyboard[i]:\n",
    "                nx = i\n",
    "                ny = keyboard[i].index(string)\n",
    "\n",
    "                time += abs(nx - xr) + abs(ny - yr)\n",
    "                xr = nx\n",
    "                yr = ny\n",
    "                break\n",
    "    else:\n",
    "        for i in range(len(keyboard)):\n",
    "            if string in keyboard[i]:\n",
    "                nx = i\n",
    "                ny = keyboard[i].index(string)\n",
    "\n",
    "                time += abs(nx - xl) + abs(ny - yl)\n",
    "                xl = nx\n",
    "                yl = ny\n",
    "                break\n",
    "\n",
    "print(time)"
   ]
  }
 ],
 "metadata": {
  "kernelspec": {
   "display_name": "Python 3 (ipykernel)",
   "language": "python",
   "name": "python3"
  },
  "language_info": {
   "codemirror_mode": {
    "name": "ipython",
    "version": 3
   },
   "file_extension": ".py",
   "mimetype": "text/x-python",
   "name": "python",
   "nbconvert_exporter": "python",
   "pygments_lexer": "ipython3",
   "version": "3.11.7"
  }
 },
 "nbformat": 4,
 "nbformat_minor": 5
}
