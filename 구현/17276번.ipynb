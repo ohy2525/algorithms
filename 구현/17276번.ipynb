{
 "cells": [
  {
   "cell_type": "markdown",
   "id": "68c365b5-4812-4b53-8584-db7b8c084d2f",
   "metadata": {},
   "source": [
    "https://www.acmicpc.net/problem/17276"
   ]
  },
  {
   "cell_type": "code",
   "execution_count": 2,
   "id": "1456c5d2-814d-44b5-9ec2-ec6152e3b02e",
   "metadata": {},
   "outputs": [
    {
     "name": "stdin",
     "output_type": "stream",
     "text": [
      " 1\n",
      " 5 45\n",
      " 1 2 3 4 5\n",
      " 6 7 8 9 10\n",
      " 11 12 13 14 15\n",
      " 16 17 18 19 20\n",
      " 21 22 23 24 25\n"
     ]
    },
    {
     "name": "stdout",
     "output_type": "stream",
     "text": [
      "11 2 1 4 3\n",
      "6 12 7 8 10\n",
      "21 17 13 9 5\n",
      "16 18 19 14 20\n",
      "23 22 25 24 15\n"
     ]
    }
   ],
   "source": [
    "result = []\n",
    "test_case = int(input())\n",
    "for _ in range(test_case):\n",
    "    array = []\n",
    "    n, d = map(int, input().split())\n",
    "    for _ in range(n):\n",
    "        array.append(list(map(int, input().split())))\n",
    "\n",
    "    if d < 0:\n",
    "        d = 360 + d\n",
    "    start = d // 45 - 1\n",
    "\n",
    "    before = []\n",
    "    before.append([array[i][i] for i in range(n)])\n",
    "    before.append([array[i][(n+1)//2-1] for i in range(n)])\n",
    "    before.append([array[n-i-1][i] for i in range(n-1, -1, -1)])\n",
    "    before.append([array[(n+1)//2-1][i] for i in range(n-1, -1, -1)])\n",
    "\n",
    "    after = [[0] * n for _ in range(n)]\n",
    "\n",
    "    # rotate\n",
    "    for b_i in range(4):\n",
    "        index = (b_i + start) % 8\n",
    "\n",
    "        if index == 0 or index == 4:\n",
    "            if index == 0:\n",
    "                for i in range(n):\n",
    "                    after[i][(n + 1)//2-1] = before[b_i][i]\n",
    "            if index == 4:\n",
    "                for i in range(n):\n",
    "                    after[n-i-1][(n + 1)//2-1] = before[b_i][i]\n",
    "\n",
    "        if index == 1 or index == 5:\n",
    "            if index == 1:\n",
    "                for i in range(n):\n",
    "                    after[i][n-i-1] = before[b_i][i]\n",
    "            else:\n",
    "                for i in range(n):\n",
    "                    after[n-i-1][i] = before[b_i][i]\n",
    "        if index == 2 or index == 6:\n",
    "            if index == 2:\n",
    "                for i in range(n):\n",
    "                    after[(n+1)//2 -1][n-i-1] = before[b_i][i]\n",
    "            else:\n",
    "                for i in range(n):\n",
    "                    after[(n+1)//2 -1][i] = before[b_i][i]\n",
    "        if index == 3 or index == 7:\n",
    "            if index == 3:\n",
    "                for i in range(n):\n",
    "                    after[n-i-1][n-i-1] = before[b_i][i]\n",
    "            else:\n",
    "                for i in range(n):\n",
    "                    after[i][i] = before[b_i][i]\n",
    "\n",
    "    # 남은 칸 채우기\n",
    "    for i in range(n):\n",
    "        for j in range(n):\n",
    "            if after[i][j] == 0:\n",
    "                after[i][j] = array[i][j]\n",
    "\n",
    "    for a in range(n):\n",
    "        result.append(after[a])\n",
    "\n",
    "for _ in range(len(result)):\n",
    "    print(*result[_])"
   ]
  }
 ],
 "metadata": {
  "kernelspec": {
   "display_name": "Python 3 (ipykernel)",
   "language": "python",
   "name": "python3"
  },
  "language_info": {
   "codemirror_mode": {
    "name": "ipython",
    "version": 3
   },
   "file_extension": ".py",
   "mimetype": "text/x-python",
   "name": "python",
   "nbconvert_exporter": "python",
   "pygments_lexer": "ipython3",
   "version": "3.11.7"
  }
 },
 "nbformat": 4,
 "nbformat_minor": 5
}
