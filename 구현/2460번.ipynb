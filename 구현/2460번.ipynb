{
 "cells": [
  {
   "cell_type": "markdown",
   "id": "ed8772ed-4700-428e-b93f-8a6411faa70f",
   "metadata": {},
   "source": [
    "https://www.acmicpc.net/problem/2460"
   ]
  },
  {
   "cell_type": "code",
   "execution_count": 1,
   "id": "f93ab1c7-1c0d-4037-9d89-0b1d1d99028c",
   "metadata": {},
   "outputs": [
    {
     "name": "stdin",
     "output_type": "stream",
     "text": [
      " 0 32\n",
      " 3 13\n",
      " 28 25\n",
      " 17 5\n",
      " 21 21\n",
      " 11 0\n",
      " 12 12\n",
      " 4 2\n",
      " 0 8\n",
      " 21 0\n"
     ]
    },
    {
     "name": "stdout",
     "output_type": "stream",
     "text": [
      "42\n"
     ]
    }
   ],
   "source": [
    "passenger = 0\n",
    "max_passenger = 0\n",
    "\n",
    "for _ in range(10):\n",
    "    out_train, in_train  = map(int, input().split()) \n",
    "    passenger += in_train - out_train \n",
    "    max_passenger = max(passenger, max_passenger) \n",
    "    \n",
    "print(max_passenger)"
   ]
  }
 ],
 "metadata": {
  "kernelspec": {
   "display_name": "Python 3 (ipykernel)",
   "language": "python",
   "name": "python3"
  },
  "language_info": {
   "codemirror_mode": {
    "name": "ipython",
    "version": 3
   },
   "file_extension": ".py",
   "mimetype": "text/x-python",
   "name": "python",
   "nbconvert_exporter": "python",
   "pygments_lexer": "ipython3",
   "version": "3.11.7"
  }
 },
 "nbformat": 4,
 "nbformat_minor": 5
}
