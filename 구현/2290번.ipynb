{
 "cells": [
  {
   "cell_type": "markdown",
   "id": "830ee2d0-d2fc-4461-be5e-9637e2b34b4c",
   "metadata": {},
   "source": [
    "https://www.acmicpc.net/problem/2290"
   ]
  },
  {
   "cell_type": "code",
   "execution_count": 1,
   "id": "238e3ef0-06e1-4988-afb6-0f96be2e8d65",
   "metadata": {},
   "outputs": [
    {
     "name": "stdin",
     "output_type": "stream",
     "text": [
      " 2 1234567890\n"
     ]
    },
    {
     "name": "stdout",
     "output_type": "stream",
     "text": [
      "      --   --        --   --   --   --   --   --  \n",
      "   |    |    | |  | |    |       | |  | |  | |  | \n",
      "   |    |    | |  | |    |       | |  | |  | |  | \n",
      "      --   --   --   --   --        --   --       \n",
      "   | |       |    |    | |  |    | |  |    | |  | \n",
      "   | |       |    |    | |  |    | |  |    | |  | \n",
      "      --   --        --   --        --   --   --  \n"
     ]
    }
   ],
   "source": [
    "s, n = input().rstrip().split()\n",
    "def number(s, num):\n",
    "    string = [[' ' for _ in range(s+2)] for _ in range(2*s+3)]\n",
    "    if num == 0:\n",
    "        for i in range(1, s+1):\n",
    "            string[0][i] = '-'\n",
    "            string[i][0] = '|'\n",
    "            string[i][-1] = '|'\n",
    "            string[s+1+i][0] = '|'\n",
    "            string[s+1+i][-1] = '|'\n",
    "            string[-1][i] = '-'\n",
    "    elif num == 1:\n",
    "        for i in range(1, s+1):\n",
    "            string[i][-1] = '|'\n",
    "            string[s+1+i][-1] = '|'\n",
    "    elif num == 2:\n",
    "        for i in range(1, s+1):\n",
    "            string[0][i] = '-'\n",
    "            string[i][-1] = '|'\n",
    "            string[s+1][i] = '-'\n",
    "            string[s+1+i][0] = '|'\n",
    "            string[-1][i] = '-'\n",
    "    elif num == 3:\n",
    "        for i in range(1, s+1):\n",
    "            string[0][i] = '-'\n",
    "            string[i][-1] = '|'\n",
    "            string[s+1][i] = '-'\n",
    "            string[s+1+i][-1] = '|'\n",
    "            string[-1][i] = '-'\n",
    "    elif num == 4:\n",
    "        for i in range(1, s+1):\n",
    "            string[i][0] = '|'\n",
    "            string[i][-1] = '|'\n",
    "            string[s+1][i] = '-'\n",
    "            string[s+1+i][-1] = '|'\n",
    "    elif num == 5:\n",
    "        for i in range(1, s+1):\n",
    "            string[0][i] = '-'\n",
    "            string[i][0] = '|'\n",
    "            string[s+1][i] = '-'\n",
    "            string[s+1+i][-1] = '|'\n",
    "            string[-1][i] = '-'\n",
    "    elif num == 6:\n",
    "        for i in range(1, s+1):\n",
    "            string[0][i] = '-'\n",
    "            string[i][0] = '|'\n",
    "            string[s+1][i] = '-'\n",
    "            string[s+1+i][0] = '|'\n",
    "            string[s+1+i][-1] = '|'\n",
    "            string[-1][i] = '-'\n",
    "    elif num == 7:\n",
    "        for i in range(1, s+1):\n",
    "            string[0][i] = '-'\n",
    "            string[i][-1] = '|'\n",
    "            string[s+1+i][-1] = '|'\n",
    "    elif num == 8:\n",
    "        for i in range(1, s+1):\n",
    "            string[0][i] = '-'\n",
    "            string[i][0] = '|'\n",
    "            string[i][-1] = '|'\n",
    "            string[s+1][i] = '-'\n",
    "            string[s+1+i][0] = '|'\n",
    "            string[s+1+i][-1] = '|'\n",
    "            string[-1][i] = '-'\n",
    "    else:\n",
    "        for i in range(1, s+1):\n",
    "            string[0][i] = '-'\n",
    "            string[i][0] = '|'\n",
    "            string[i][-1] = '|'\n",
    "            string[s+1][i] = '-'\n",
    "            string[s+1+i][-1] = '|'\n",
    "            string[-1][i] = '-'\n",
    "    return string\n",
    "\n",
    "def solve(s, n):\n",
    "    k = len(n)\n",
    "    mat = []\n",
    "    for num in n:\n",
    "        mat.append(number(s, int(num)))\n",
    "    for j in range(2*s+3):\n",
    "        for i in range(k):\n",
    "            print(*mat[i][j], end = ' ', sep = '')\n",
    "        print()\n",
    "\n",
    "s = int(s)\n",
    "solve(s, n)"
   ]
  }
 ],
 "metadata": {
  "kernelspec": {
   "display_name": "Python 3 (ipykernel)",
   "language": "python",
   "name": "python3"
  },
  "language_info": {
   "codemirror_mode": {
    "name": "ipython",
    "version": 3
   },
   "file_extension": ".py",
   "mimetype": "text/x-python",
   "name": "python",
   "nbconvert_exporter": "python",
   "pygments_lexer": "ipython3",
   "version": "3.11.7"
  }
 },
 "nbformat": 4,
 "nbformat_minor": 5
}
