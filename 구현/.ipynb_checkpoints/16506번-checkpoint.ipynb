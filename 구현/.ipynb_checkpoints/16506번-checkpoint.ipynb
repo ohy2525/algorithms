{
 "cells": [
  {
   "cell_type": "markdown",
   "metadata": {},
   "source": [
    "https://www.acmicpc.net/problem/16506"
   ]
  },
  {
   "cell_type": "code",
   "execution_count": 1,
   "metadata": {},
   "outputs": [
    {
     "name": "stdin",
     "output_type": "stream",
     "text": [
      " 1\n",
      " MOVC 1 0 5\n"
     ]
    },
    {
     "name": "stdout",
     "output_type": "stream",
     "text": [
      "0010100010000101\n"
     ]
    }
   ],
   "source": [
    "n = int(input())\n",
    "\n",
    "opcode_machine = {'ADD':'0000', 'SUB':'0001', 'MOV':'0010', 'AND':'0011','OR':'0100',\n",
    "                   'NOT':'0101','MULT':'0110', 'LSFTL':'0111', 'LSFTR':'1000',\n",
    "                   'ASFTR':'1001','RL':'1010','RR':'1011'}\n",
    "for i in range(n):\n",
    "    input_data = input().split()\n",
    "    machine_code = ''\n",
    "    opcode = input_data[0]\n",
    "    rd = input_data[1]\n",
    "    ra = input_data[2]\n",
    "    rb = input_data[3]\n",
    "    \n",
    "    if opcode[-1]=='C':\n",
    "        machine_code += opcode_machine.get(opcode[:-1])\n",
    "        machine_code += '1'\n",
    "    else:\n",
    "        machine_code += opcode_machine.get(opcode)\n",
    "        machine_code += '0'\n",
    "    machine_code += '0'\n",
    "    \n",
    "    machine_code+=str(bin(int(rd)))[2:].zfill(3)\n",
    "    machine_code+=str(bin(int(ra)))[2:].zfill(3)\n",
    "    \n",
    "    if machine_code[4]=='0':\n",
    "        machine_code+=str(bin(int(rb)))[2:].zfill(3)\n",
    "        machine_code+='0'\n",
    "    else:\n",
    "        machine_code+=str(bin(int(rb)))[2:].zfill(4)\n",
    "        \n",
    "    print(machine_code)"
   ]
  }
 ],
 "metadata": {
  "kernelspec": {
   "display_name": "Python 3 (ipykernel)",
   "language": "python",
   "name": "python3"
  },
  "language_info": {
   "codemirror_mode": {
    "name": "ipython",
    "version": 3
   },
   "file_extension": ".py",
   "mimetype": "text/x-python",
   "name": "python",
   "nbconvert_exporter": "python",
   "pygments_lexer": "ipython3",
   "version": "3.11.7"
  }
 },
 "nbformat": 4,
 "nbformat_minor": 4
}
