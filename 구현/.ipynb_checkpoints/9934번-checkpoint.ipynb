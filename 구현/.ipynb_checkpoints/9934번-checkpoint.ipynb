{
 "cells": [
  {
   "cell_type": "markdown",
   "id": "644b6989-3f3b-4e8a-8e80-a574d1a76038",
   "metadata": {},
   "source": [
    "https://www.acmicpc.net/problem/9934"
   ]
  },
  {
   "cell_type": "code",
   "execution_count": 1,
   "id": "801d1f4a-8bd9-4e50-8f0f-2f50688d06c7",
   "metadata": {},
   "outputs": [
    {
     "name": "stdin",
     "output_type": "stream",
     "text": [
      " 2\n",
      " 2 1 3\n"
     ]
    },
    {
     "name": "stdout",
     "output_type": "stream",
     "text": [
      "1\n",
      "2 3\n"
     ]
    }
   ],
   "source": [
    "k = int(input())\n",
    "inorder = list(map(int, input().split()))\n",
    "\n",
    "answer = [[] for _ in range(k)]\n",
    "\n",
    "def dfs(inorder, depth):\n",
    "\n",
    "    mid = (len(inorder) // 2)\n",
    "\n",
    "    answer[depth].append(inorder[mid])\n",
    "\n",
    "    if len(inorder) == 1:\n",
    "        return\n",
    "\n",
    "    dfs(inorder[:mid], depth+1)\n",
    "    dfs(inorder[mid+1:], depth+1)\n",
    "\n",
    "dfs(inorder, 0)\n",
    "\n",
    "for i in answer:\n",
    "    print(*i)"
   ]
  }
 ],
 "metadata": {
  "kernelspec": {
   "display_name": "Python 3 (ipykernel)",
   "language": "python",
   "name": "python3"
  },
  "language_info": {
   "codemirror_mode": {
    "name": "ipython",
    "version": 3
   },
   "file_extension": ".py",
   "mimetype": "text/x-python",
   "name": "python",
   "nbconvert_exporter": "python",
   "pygments_lexer": "ipython3",
   "version": "3.11.7"
  }
 },
 "nbformat": 4,
 "nbformat_minor": 5
}
