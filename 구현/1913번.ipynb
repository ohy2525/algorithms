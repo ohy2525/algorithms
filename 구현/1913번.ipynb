{
 "cells": [
  {
   "cell_type": "markdown",
   "metadata": {},
   "source": [
    "https://www.acmicpc.net/problem/1913"
   ]
  },
  {
   "cell_type": "code",
   "execution_count": null,
   "metadata": {},
   "outputs": [],
   "source": [
    "n = int(input())\n",
    "num = int(input())\n",
    "dx = [-1,0,1,0]\n",
    "dy = [0,1,0,-1]\n",
    "graph = [[0] * n for _ in range(n)]\n",
    "number = 2\n",
    "x = n//2\n",
    "y = n//2\n",
    "graph[x][y] = 1\n",
    "repeat = 1\n",
    "i = 0\n",
    "\n",
    "answer = [x + 1,y + 1]\n",
    "while x!=0 or y !=0:\n",
    "   flag = 0\n",
    "   for _ in range(2):\n",
    "      for _ in range(repeat):\n",
    "         x += dx[i]\n",
    "         y += dy[i]\n",
    "         graph[x][y] = number\n",
    "         if number == num:\n",
    "            answer = [x + 1,y + 1] \n",
    "         if x == 0 and y == 0: \n",
    "            flag = 1\n",
    "            break\n",
    "         number += 1\n",
    "      if flag == 1: break\n",
    "      i = (i + 1) % 4\n",
    "   repeat += 1\n",
    "\n",
    "for i in graph:\n",
    "   print(*i)\n",
    "   \n",
    "print(*answer)"
   ]
  }
 ],
 "metadata": {
  "language_info": {
   "name": "python"
  }
 },
 "nbformat": 4,
 "nbformat_minor": 2
}
