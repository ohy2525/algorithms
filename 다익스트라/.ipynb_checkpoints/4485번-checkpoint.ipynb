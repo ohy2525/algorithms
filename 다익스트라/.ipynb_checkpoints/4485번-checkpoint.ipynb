{
 "cells": [
  {
   "cell_type": "markdown",
   "metadata": {},
   "source": [
    "https://www.acmicpc.net/problem/4485"
   ]
  },
  {
   "cell_type": "code",
   "execution_count": null,
   "metadata": {},
   "outputs": [],
   "source": [
    "import heapq\n",
    "import sys\n",
    "\n",
    "input = sys.stdin.readline\n",
    "INF = int(1e9)\n",
    "\n",
    "dx = [-1, 1, 0, 0]\n",
    "dy = [0, 0, -1, 1]\n",
    "\n",
    "def dijkstra():\n",
    "    q = []\n",
    "    heapq.heappush(q, (graph[0][0], 0, 0))\n",
    "    distance[0][0] = 0\n",
    "    \n",
    "    while q:\n",
    "        cost, x, y = heapq.heappop(q)\n",
    "        \n",
    "        if x == n - 1 and y == n - 1:\n",
    "            print(\"Problem {}: {}\".format(count, cost))\n",
    "            break\n",
    "        \n",
    "        for i in range(4):\n",
    "            new_x = x + dx[i]\n",
    "            new_y = y + dy[i]\n",
    "            \n",
    "            if 0 <= new_x < n and 0 <= new_y < n:\n",
    "                new_cost = cost + graph[new_x][new_y]\n",
    "                \n",
    "                if new_cost < distance[new_x][new_y]:\n",
    "                    distance[new_x][new_y] = new_cost\n",
    "                    heapq.heappush(q, (new_cost, new_x, new_y))\n",
    "\n",
    "count = 1\n",
    "\n",
    "while True:\n",
    "    n = int(input())\n",
    "    if n == 0:\n",
    "        break\n",
    "\n",
    "    graph = [list(map(int, input().split())) for _ in range(n)]\n",
    "    distance = [[INF] * n for _ in range(n)]\n",
    "\n",
    "    dijkstra()\n",
    "    count += 1"
   ]
  }
 ],
 "metadata": {
  "kernelspec": {
   "display_name": "Python 3",
   "language": "python",
   "name": "python3"
  },
  "language_info": {
   "codemirror_mode": {
    "name": "ipython",
    "version": 3
   },
   "file_extension": ".py",
   "mimetype": "text/x-python",
   "name": "python",
   "nbconvert_exporter": "python",
   "pygments_lexer": "ipython3",
   "version": "3.8.5"
  }
 },
 "nbformat": 4,
 "nbformat_minor": 4
}
