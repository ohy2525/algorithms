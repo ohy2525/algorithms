{
 "cells": [
  {
   "cell_type": "markdown",
   "id": "398f6242-17f0-4352-9054-198861673b4e",
   "metadata": {},
   "source": [
    "https://www.acmicpc.net/problem/1495"
   ]
  },
  {
   "cell_type": "code",
   "execution_count": 2,
   "id": "f406d2a1-235a-47bb-b472-40cdd0d90669",
   "metadata": {},
   "outputs": [
    {
     "name": "stdin",
     "output_type": "stream",
     "text": [
      " 3 5 10\n",
      " 5 3 7\n"
     ]
    },
    {
     "name": "stdout",
     "output_type": "stream",
     "text": [
      "10\n"
     ]
    }
   ],
   "source": [
    "n, s, m = map(int, input().split())\n",
    "v = list(map(int, input().split()))\n",
    "dp = [[0] * (m+1) for _ in range(n+1)]\n",
    "dp[0][s] = 1\n",
    "\n",
    "for i in range(n):\n",
    "    for j in range(m+1):\n",
    "        if dp[i][j] == 1:\n",
    "            if j+v[i] <= m:\n",
    "                dp[i+1][j+v[i]] = 1\n",
    "            if j-v[i] >= 0:\n",
    "                dp[i+1][j-v[i]] = 1\n",
    "\n",
    "ans = -1\n",
    "for i in range(m, -1, -1):\n",
    "    if dp[n][i]==1:\n",
    "        ans = i\n",
    "        break\n",
    "print(ans)"
   ]
  }
 ],
 "metadata": {
  "kernelspec": {
   "display_name": "Python 3 (ipykernel)",
   "language": "python",
   "name": "python3"
  },
  "language_info": {
   "codemirror_mode": {
    "name": "ipython",
    "version": 3
   },
   "file_extension": ".py",
   "mimetype": "text/x-python",
   "name": "python",
   "nbconvert_exporter": "python",
   "pygments_lexer": "ipython3",
   "version": "3.11.7"
  }
 },
 "nbformat": 4,
 "nbformat_minor": 5
}
