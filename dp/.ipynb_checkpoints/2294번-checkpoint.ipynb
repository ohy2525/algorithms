{
 "cells": [
  {
   "cell_type": "markdown",
   "id": "e6a74bb3-1b51-4ae3-b4c1-1c99c55b768c",
   "metadata": {},
   "source": [
    "https://www.acmicpc.net/problem/2294"
   ]
  },
  {
   "cell_type": "code",
   "execution_count": 3,
   "id": "6701911f-16b0-4e58-a660-7e05d82b4a66",
   "metadata": {},
   "outputs": [
    {
     "name": "stdin",
     "output_type": "stream",
     "text": [
      " 3 15\n",
      " 1\n",
      " 5\n",
      " 12\n"
     ]
    },
    {
     "name": "stdout",
     "output_type": "stream",
     "text": [
      "3\n"
     ]
    }
   ],
   "source": [
    "n, k = map(int, input().split())\n",
    "\n",
    "li =[]\n",
    "\n",
    "for i in range(n):\n",
    "   li.append(int(input()))\n",
    "\n",
    "dp = [10001] * (k+1)\n",
    "dp[0] = 0\n",
    "\n",
    "for num in li:\n",
    "   for i in range(num, k+1):\n",
    "       dp[i] = min(dp[i],dp[i-num]+1)\n",
    "if dp[k] == 10001:\n",
    "   print(-1)\n",
    "else:\n",
    "   print(dp[k])"
   ]
  }
 ],
 "metadata": {
  "kernelspec": {
   "display_name": "Python 3 (ipykernel)",
   "language": "python",
   "name": "python3"
  },
  "language_info": {
   "codemirror_mode": {
    "name": "ipython",
    "version": 3
   },
   "file_extension": ".py",
   "mimetype": "text/x-python",
   "name": "python",
   "nbconvert_exporter": "python",
   "pygments_lexer": "ipython3",
   "version": "3.11.7"
  }
 },
 "nbformat": 4,
 "nbformat_minor": 5
}
